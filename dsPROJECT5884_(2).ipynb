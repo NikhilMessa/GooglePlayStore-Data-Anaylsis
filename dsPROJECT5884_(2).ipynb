{
  "nbformat": 4,
  "nbformat_minor": 0,
  "metadata": {
    "colab": {
      "provenance": []
    },
    "kernelspec": {
      "name": "python3",
      "display_name": "Python 3"
    },
    "language_info": {
      "name": "python"
    }
  },
  "cells": [
    {
      "cell_type": "code",
      "execution_count": null,
      "metadata": {
        "id": "7YPzRnqz3Gpz"
      },
      "outputs": [],
      "source": [
        "import pandas as pd\n",
        "import numpy as np\n",
        "import matplotlib.pyplot as plt\n",
        "import seaborn as sns\n",
        "%matplotlib inline"
      ]
    },
    {
      "cell_type": "code",
      "source": [
        "#Loading dataset\n",
        "df=pd.read_csv('/content/Google-Playstore.csv')\n",
        "df"
      ],
      "metadata": {
        "colab": {
          "base_uri": "https://localhost:8080/",
          "height": 904
        },
        "id": "SWfNc43N34PR",
        "outputId": "938ffca7-856a-4ed7-9ee0-195b62576c6a"
      },
      "execution_count": null,
      "outputs": [
        {
          "output_type": "execute_result",
          "data": {
            "text/plain": [
              "                                                App Name  \\\n",
              "0                                                Gakondo   \n",
              "1                                    Ampere Battery Info   \n",
              "2                                                 Vibook   \n",
              "3      Smart City Trichy Public Service Vehicles 17UC...   \n",
              "4                                                GROW.me   \n",
              "...                                                  ...   \n",
              "11993                                    Backgammon Free   \n",
              "11994                                          Park n Go   \n",
              "11995                                          Le Frioul   \n",
              "11996                                            ORGames   \n",
              "11997    Pakistan Photo editor - Independence day Frames   \n",
              "\n",
              "                               App Id        Category  Rating  Rating Count  \\\n",
              "0                 com.ishakwe.gakondo       Adventure     0.0           0.0   \n",
              "1          com.webserveis.batteryinfo           Tools     4.4          64.0   \n",
              "2                com.doantiepvien.crm    Productivity     0.0           0.0   \n",
              "3             cst.stJoseph.ug17ucs548   Communication     5.0           5.0   \n",
              "4                com.horodyski.grower           Tools     0.0           0.0   \n",
              "...                               ...             ...     ...           ...   \n",
              "11993  uk.co.aifactory.backgammonfree           Board     4.4      351673.0   \n",
              "11994               com.mango.parkngo  Travel & Local     NaN           NaN   \n",
              "11995         com.appsvision.lefrioul        Business     0.0           0.0   \n",
              "11996      com.bchiniprojects.orgames          Sports     4.4          16.0   \n",
              "11997         rqa.paklove.photo.frame     Photography     4.5           6.0   \n",
              "\n",
              "          Installs  Minimum Installs  Maximum Installs  Free  Price  ...  \\\n",
              "0              10+              10.0                15  True    0.0  ...   \n",
              "1           5,000+            5000.0              7662  True    0.0  ...   \n",
              "2              50+              50.0                58  True    0.0  ...   \n",
              "3              10+              10.0                19  True    0.0  ...   \n",
              "4             100+             100.0               478  True    0.0  ...   \n",
              "...            ...               ...               ...   ...    ...  ...   \n",
              "11993  10,000,000+        10000000.0          15286606  True    0.0  ...   \n",
              "11994         500+             500.0               538  True    0.0  ...   \n",
              "11995          10+              10.0                31  True    0.0  ...   \n",
              "11996       1,000+            1000.0              1806  True    0.0  ...   \n",
              "11997       1,000+            1000.0              3570  True    0.0  ...   \n",
              "\n",
              "                                   Developer Website  \\\n",
              "0                        https://beniyizibyose.tk/#/   \n",
              "1                    https://webserveis.netlify.app/   \n",
              "2                                                NaN   \n",
              "3                   http://www.climatesmarttech.com/   \n",
              "4                        http://www.horodyski.com.pl   \n",
              "...                                              ...   \n",
              "11993                     http://www.aifactory.co.uk   \n",
              "11994                                            NaN   \n",
              "11995                       http://www.appsvision.fr   \n",
              "11996  http://org-official-reference-for-games.com/    \n",
              "11997              https://m769bdfad.app-ads-txt.com   \n",
              "\n",
              "                    Developer Email      Released  Last Updated  \\\n",
              "0            jean21101999@gmail.com  Feb 26, 2020  Feb 26, 2020   \n",
              "1              webserveis@gmail.com  May 21, 2020  May 06, 2021   \n",
              "2               vnacrewit@gmail.com   Aug 9, 2019  Aug 19, 2019   \n",
              "3       climatesmarttech2@gmail.com  Sep 10, 2018  Oct 13, 2018   \n",
              "4         rmilekhorodyski@gmail.com  Feb 21, 2020  Nov 12, 2018   \n",
              "...                             ...           ...           ...   \n",
              "11993       support@aifactory.co.uk  Jul 26, 2010  Mar 09, 2021   \n",
              "11994         publish@mango-one.com           NaN  Aug 23, 2019   \n",
              "11995          bcohen@appsvision.fr   May 9, 2014  May 20, 2014   \n",
              "11996          abousoumou@gmail.com  Oct 10, 2019  Nov 09, 2019   \n",
              "11997  diamondapplication@gmail.com  Jul 27, 2017  Sep 29, 2018   \n",
              "\n",
              "      Content Rating                                     Privacy Policy  \\\n",
              "0           Everyone                 https://beniyizibyose.tk/projects/   \n",
              "1           Everyone  https://dev4phones.wordpress.com/licencia-de-uso/   \n",
              "2           Everyone  https://www.vietnamairlines.com/vn/en/terms-an...   \n",
              "3           Everyone                                                NaN   \n",
              "4           Everyone                        http://www.horodyski.com.pl   \n",
              "...              ...                                                ...   \n",
              "11993       Everyone      http://www.aifactory.co.uk/privacy_policy.htm   \n",
              "11994       Everyone  http://www.spinfy.com/products/moomin-pad/priv...   \n",
              "11995       Everyone            http://www.appsvision.fr/privacy-policy   \n",
              "11996       Everyone  https://drive.google.com/file/d/1KORYzqlwi6Sfm...   \n",
              "11997       Everyone  https://docs.google.com/document/d/1IHbguw7oq6...   \n",
              "\n",
              "      Ad Supported In App Purchases Editors Choice      Scraped Time  \n",
              "0            False            False          False  15-06-2021 20:19  \n",
              "1             True            False          False  15-06-2021 20:19  \n",
              "2            False            False          False  15-06-2021 20:19  \n",
              "3             True            False          False  15-06-2021 20:19  \n",
              "4            False            False          False  15-06-2021 20:19  \n",
              "...            ...              ...            ...               ...  \n",
              "11993         True            False          False  15-06-2021 20:31  \n",
              "11994        False            False          False  15-06-2021 20:31  \n",
              "11995        False            False          False  15-06-2021 20:31  \n",
              "11996         True            False          False  15-06-2021 20:31  \n",
              "11997         True            False          False  15-06-2021 20:31  \n",
              "\n",
              "[11998 rows x 24 columns]"
            ],
            "text/html": [
              "\n",
              "  <div id=\"df-32c1ff53-0d93-481e-9e57-475c0f017b9a\">\n",
              "    <div class=\"colab-df-container\">\n",
              "      <div>\n",
              "<style scoped>\n",
              "    .dataframe tbody tr th:only-of-type {\n",
              "        vertical-align: middle;\n",
              "    }\n",
              "\n",
              "    .dataframe tbody tr th {\n",
              "        vertical-align: top;\n",
              "    }\n",
              "\n",
              "    .dataframe thead th {\n",
              "        text-align: right;\n",
              "    }\n",
              "</style>\n",
              "<table border=\"1\" class=\"dataframe\">\n",
              "  <thead>\n",
              "    <tr style=\"text-align: right;\">\n",
              "      <th></th>\n",
              "      <th>App Name</th>\n",
              "      <th>App Id</th>\n",
              "      <th>Category</th>\n",
              "      <th>Rating</th>\n",
              "      <th>Rating Count</th>\n",
              "      <th>Installs</th>\n",
              "      <th>Minimum Installs</th>\n",
              "      <th>Maximum Installs</th>\n",
              "      <th>Free</th>\n",
              "      <th>Price</th>\n",
              "      <th>...</th>\n",
              "      <th>Developer Website</th>\n",
              "      <th>Developer Email</th>\n",
              "      <th>Released</th>\n",
              "      <th>Last Updated</th>\n",
              "      <th>Content Rating</th>\n",
              "      <th>Privacy Policy</th>\n",
              "      <th>Ad Supported</th>\n",
              "      <th>In App Purchases</th>\n",
              "      <th>Editors Choice</th>\n",
              "      <th>Scraped Time</th>\n",
              "    </tr>\n",
              "  </thead>\n",
              "  <tbody>\n",
              "    <tr>\n",
              "      <th>0</th>\n",
              "      <td>Gakondo</td>\n",
              "      <td>com.ishakwe.gakondo</td>\n",
              "      <td>Adventure</td>\n",
              "      <td>0.0</td>\n",
              "      <td>0.0</td>\n",
              "      <td>10+</td>\n",
              "      <td>10.0</td>\n",
              "      <td>15</td>\n",
              "      <td>True</td>\n",
              "      <td>0.0</td>\n",
              "      <td>...</td>\n",
              "      <td>https://beniyizibyose.tk/#/</td>\n",
              "      <td>jean21101999@gmail.com</td>\n",
              "      <td>Feb 26, 2020</td>\n",
              "      <td>Feb 26, 2020</td>\n",
              "      <td>Everyone</td>\n",
              "      <td>https://beniyizibyose.tk/projects/</td>\n",
              "      <td>False</td>\n",
              "      <td>False</td>\n",
              "      <td>False</td>\n",
              "      <td>15-06-2021 20:19</td>\n",
              "    </tr>\n",
              "    <tr>\n",
              "      <th>1</th>\n",
              "      <td>Ampere Battery Info</td>\n",
              "      <td>com.webserveis.batteryinfo</td>\n",
              "      <td>Tools</td>\n",
              "      <td>4.4</td>\n",
              "      <td>64.0</td>\n",
              "      <td>5,000+</td>\n",
              "      <td>5000.0</td>\n",
              "      <td>7662</td>\n",
              "      <td>True</td>\n",
              "      <td>0.0</td>\n",
              "      <td>...</td>\n",
              "      <td>https://webserveis.netlify.app/</td>\n",
              "      <td>webserveis@gmail.com</td>\n",
              "      <td>May 21, 2020</td>\n",
              "      <td>May 06, 2021</td>\n",
              "      <td>Everyone</td>\n",
              "      <td>https://dev4phones.wordpress.com/licencia-de-uso/</td>\n",
              "      <td>True</td>\n",
              "      <td>False</td>\n",
              "      <td>False</td>\n",
              "      <td>15-06-2021 20:19</td>\n",
              "    </tr>\n",
              "    <tr>\n",
              "      <th>2</th>\n",
              "      <td>Vibook</td>\n",
              "      <td>com.doantiepvien.crm</td>\n",
              "      <td>Productivity</td>\n",
              "      <td>0.0</td>\n",
              "      <td>0.0</td>\n",
              "      <td>50+</td>\n",
              "      <td>50.0</td>\n",
              "      <td>58</td>\n",
              "      <td>True</td>\n",
              "      <td>0.0</td>\n",
              "      <td>...</td>\n",
              "      <td>NaN</td>\n",
              "      <td>vnacrewit@gmail.com</td>\n",
              "      <td>Aug 9, 2019</td>\n",
              "      <td>Aug 19, 2019</td>\n",
              "      <td>Everyone</td>\n",
              "      <td>https://www.vietnamairlines.com/vn/en/terms-an...</td>\n",
              "      <td>False</td>\n",
              "      <td>False</td>\n",
              "      <td>False</td>\n",
              "      <td>15-06-2021 20:19</td>\n",
              "    </tr>\n",
              "    <tr>\n",
              "      <th>3</th>\n",
              "      <td>Smart City Trichy Public Service Vehicles 17UC...</td>\n",
              "      <td>cst.stJoseph.ug17ucs548</td>\n",
              "      <td>Communication</td>\n",
              "      <td>5.0</td>\n",
              "      <td>5.0</td>\n",
              "      <td>10+</td>\n",
              "      <td>10.0</td>\n",
              "      <td>19</td>\n",
              "      <td>True</td>\n",
              "      <td>0.0</td>\n",
              "      <td>...</td>\n",
              "      <td>http://www.climatesmarttech.com/</td>\n",
              "      <td>climatesmarttech2@gmail.com</td>\n",
              "      <td>Sep 10, 2018</td>\n",
              "      <td>Oct 13, 2018</td>\n",
              "      <td>Everyone</td>\n",
              "      <td>NaN</td>\n",
              "      <td>True</td>\n",
              "      <td>False</td>\n",
              "      <td>False</td>\n",
              "      <td>15-06-2021 20:19</td>\n",
              "    </tr>\n",
              "    <tr>\n",
              "      <th>4</th>\n",
              "      <td>GROW.me</td>\n",
              "      <td>com.horodyski.grower</td>\n",
              "      <td>Tools</td>\n",
              "      <td>0.0</td>\n",
              "      <td>0.0</td>\n",
              "      <td>100+</td>\n",
              "      <td>100.0</td>\n",
              "      <td>478</td>\n",
              "      <td>True</td>\n",
              "      <td>0.0</td>\n",
              "      <td>...</td>\n",
              "      <td>http://www.horodyski.com.pl</td>\n",
              "      <td>rmilekhorodyski@gmail.com</td>\n",
              "      <td>Feb 21, 2020</td>\n",
              "      <td>Nov 12, 2018</td>\n",
              "      <td>Everyone</td>\n",
              "      <td>http://www.horodyski.com.pl</td>\n",
              "      <td>False</td>\n",
              "      <td>False</td>\n",
              "      <td>False</td>\n",
              "      <td>15-06-2021 20:19</td>\n",
              "    </tr>\n",
              "    <tr>\n",
              "      <th>...</th>\n",
              "      <td>...</td>\n",
              "      <td>...</td>\n",
              "      <td>...</td>\n",
              "      <td>...</td>\n",
              "      <td>...</td>\n",
              "      <td>...</td>\n",
              "      <td>...</td>\n",
              "      <td>...</td>\n",
              "      <td>...</td>\n",
              "      <td>...</td>\n",
              "      <td>...</td>\n",
              "      <td>...</td>\n",
              "      <td>...</td>\n",
              "      <td>...</td>\n",
              "      <td>...</td>\n",
              "      <td>...</td>\n",
              "      <td>...</td>\n",
              "      <td>...</td>\n",
              "      <td>...</td>\n",
              "      <td>...</td>\n",
              "      <td>...</td>\n",
              "    </tr>\n",
              "    <tr>\n",
              "      <th>11993</th>\n",
              "      <td>Backgammon Free</td>\n",
              "      <td>uk.co.aifactory.backgammonfree</td>\n",
              "      <td>Board</td>\n",
              "      <td>4.4</td>\n",
              "      <td>351673.0</td>\n",
              "      <td>10,000,000+</td>\n",
              "      <td>10000000.0</td>\n",
              "      <td>15286606</td>\n",
              "      <td>True</td>\n",
              "      <td>0.0</td>\n",
              "      <td>...</td>\n",
              "      <td>http://www.aifactory.co.uk</td>\n",
              "      <td>support@aifactory.co.uk</td>\n",
              "      <td>Jul 26, 2010</td>\n",
              "      <td>Mar 09, 2021</td>\n",
              "      <td>Everyone</td>\n",
              "      <td>http://www.aifactory.co.uk/privacy_policy.htm</td>\n",
              "      <td>True</td>\n",
              "      <td>False</td>\n",
              "      <td>False</td>\n",
              "      <td>15-06-2021 20:31</td>\n",
              "    </tr>\n",
              "    <tr>\n",
              "      <th>11994</th>\n",
              "      <td>Park n Go</td>\n",
              "      <td>com.mango.parkngo</td>\n",
              "      <td>Travel &amp; Local</td>\n",
              "      <td>NaN</td>\n",
              "      <td>NaN</td>\n",
              "      <td>500+</td>\n",
              "      <td>500.0</td>\n",
              "      <td>538</td>\n",
              "      <td>True</td>\n",
              "      <td>0.0</td>\n",
              "      <td>...</td>\n",
              "      <td>NaN</td>\n",
              "      <td>publish@mango-one.com</td>\n",
              "      <td>NaN</td>\n",
              "      <td>Aug 23, 2019</td>\n",
              "      <td>Everyone</td>\n",
              "      <td>http://www.spinfy.com/products/moomin-pad/priv...</td>\n",
              "      <td>False</td>\n",
              "      <td>False</td>\n",
              "      <td>False</td>\n",
              "      <td>15-06-2021 20:31</td>\n",
              "    </tr>\n",
              "    <tr>\n",
              "      <th>11995</th>\n",
              "      <td>Le Frioul</td>\n",
              "      <td>com.appsvision.lefrioul</td>\n",
              "      <td>Business</td>\n",
              "      <td>0.0</td>\n",
              "      <td>0.0</td>\n",
              "      <td>10+</td>\n",
              "      <td>10.0</td>\n",
              "      <td>31</td>\n",
              "      <td>True</td>\n",
              "      <td>0.0</td>\n",
              "      <td>...</td>\n",
              "      <td>http://www.appsvision.fr</td>\n",
              "      <td>bcohen@appsvision.fr</td>\n",
              "      <td>May 9, 2014</td>\n",
              "      <td>May 20, 2014</td>\n",
              "      <td>Everyone</td>\n",
              "      <td>http://www.appsvision.fr/privacy-policy</td>\n",
              "      <td>False</td>\n",
              "      <td>False</td>\n",
              "      <td>False</td>\n",
              "      <td>15-06-2021 20:31</td>\n",
              "    </tr>\n",
              "    <tr>\n",
              "      <th>11996</th>\n",
              "      <td>ORGames</td>\n",
              "      <td>com.bchiniprojects.orgames</td>\n",
              "      <td>Sports</td>\n",
              "      <td>4.4</td>\n",
              "      <td>16.0</td>\n",
              "      <td>1,000+</td>\n",
              "      <td>1000.0</td>\n",
              "      <td>1806</td>\n",
              "      <td>True</td>\n",
              "      <td>0.0</td>\n",
              "      <td>...</td>\n",
              "      <td>http://org-official-reference-for-games.com/</td>\n",
              "      <td>abousoumou@gmail.com</td>\n",
              "      <td>Oct 10, 2019</td>\n",
              "      <td>Nov 09, 2019</td>\n",
              "      <td>Everyone</td>\n",
              "      <td>https://drive.google.com/file/d/1KORYzqlwi6Sfm...</td>\n",
              "      <td>True</td>\n",
              "      <td>False</td>\n",
              "      <td>False</td>\n",
              "      <td>15-06-2021 20:31</td>\n",
              "    </tr>\n",
              "    <tr>\n",
              "      <th>11997</th>\n",
              "      <td>Pakistan Photo editor - Independence day Frames</td>\n",
              "      <td>rqa.paklove.photo.frame</td>\n",
              "      <td>Photography</td>\n",
              "      <td>4.5</td>\n",
              "      <td>6.0</td>\n",
              "      <td>1,000+</td>\n",
              "      <td>1000.0</td>\n",
              "      <td>3570</td>\n",
              "      <td>True</td>\n",
              "      <td>0.0</td>\n",
              "      <td>...</td>\n",
              "      <td>https://m769bdfad.app-ads-txt.com</td>\n",
              "      <td>diamondapplication@gmail.com</td>\n",
              "      <td>Jul 27, 2017</td>\n",
              "      <td>Sep 29, 2018</td>\n",
              "      <td>Everyone</td>\n",
              "      <td>https://docs.google.com/document/d/1IHbguw7oq6...</td>\n",
              "      <td>True</td>\n",
              "      <td>False</td>\n",
              "      <td>False</td>\n",
              "      <td>15-06-2021 20:31</td>\n",
              "    </tr>\n",
              "  </tbody>\n",
              "</table>\n",
              "<p>11998 rows × 24 columns</p>\n",
              "</div>\n",
              "      <button class=\"colab-df-convert\" onclick=\"convertToInteractive('df-32c1ff53-0d93-481e-9e57-475c0f017b9a')\"\n",
              "              title=\"Convert this dataframe to an interactive table.\"\n",
              "              style=\"display:none;\">\n",
              "        \n",
              "  <svg xmlns=\"http://www.w3.org/2000/svg\" height=\"24px\"viewBox=\"0 0 24 24\"\n",
              "       width=\"24px\">\n",
              "    <path d=\"M0 0h24v24H0V0z\" fill=\"none\"/>\n",
              "    <path d=\"M18.56 5.44l.94 2.06.94-2.06 2.06-.94-2.06-.94-.94-2.06-.94 2.06-2.06.94zm-11 1L8.5 8.5l.94-2.06 2.06-.94-2.06-.94L8.5 2.5l-.94 2.06-2.06.94zm10 10l.94 2.06.94-2.06 2.06-.94-2.06-.94-.94-2.06-.94 2.06-2.06.94z\"/><path d=\"M17.41 7.96l-1.37-1.37c-.4-.4-.92-.59-1.43-.59-.52 0-1.04.2-1.43.59L10.3 9.45l-7.72 7.72c-.78.78-.78 2.05 0 2.83L4 21.41c.39.39.9.59 1.41.59.51 0 1.02-.2 1.41-.59l7.78-7.78 2.81-2.81c.8-.78.8-2.07 0-2.86zM5.41 20L4 18.59l7.72-7.72 1.47 1.35L5.41 20z\"/>\n",
              "  </svg>\n",
              "      </button>\n",
              "      \n",
              "  <style>\n",
              "    .colab-df-container {\n",
              "      display:flex;\n",
              "      flex-wrap:wrap;\n",
              "      gap: 12px;\n",
              "    }\n",
              "\n",
              "    .colab-df-convert {\n",
              "      background-color: #E8F0FE;\n",
              "      border: none;\n",
              "      border-radius: 50%;\n",
              "      cursor: pointer;\n",
              "      display: none;\n",
              "      fill: #1967D2;\n",
              "      height: 32px;\n",
              "      padding: 0 0 0 0;\n",
              "      width: 32px;\n",
              "    }\n",
              "\n",
              "    .colab-df-convert:hover {\n",
              "      background-color: #E2EBFA;\n",
              "      box-shadow: 0px 1px 2px rgba(60, 64, 67, 0.3), 0px 1px 3px 1px rgba(60, 64, 67, 0.15);\n",
              "      fill: #174EA6;\n",
              "    }\n",
              "\n",
              "    [theme=dark] .colab-df-convert {\n",
              "      background-color: #3B4455;\n",
              "      fill: #D2E3FC;\n",
              "    }\n",
              "\n",
              "    [theme=dark] .colab-df-convert:hover {\n",
              "      background-color: #434B5C;\n",
              "      box-shadow: 0px 1px 3px 1px rgba(0, 0, 0, 0.15);\n",
              "      filter: drop-shadow(0px 1px 2px rgba(0, 0, 0, 0.3));\n",
              "      fill: #FFFFFF;\n",
              "    }\n",
              "  </style>\n",
              "\n",
              "      <script>\n",
              "        const buttonEl =\n",
              "          document.querySelector('#df-32c1ff53-0d93-481e-9e57-475c0f017b9a button.colab-df-convert');\n",
              "        buttonEl.style.display =\n",
              "          google.colab.kernel.accessAllowed ? 'block' : 'none';\n",
              "\n",
              "        async function convertToInteractive(key) {\n",
              "          const element = document.querySelector('#df-32c1ff53-0d93-481e-9e57-475c0f017b9a');\n",
              "          const dataTable =\n",
              "            await google.colab.kernel.invokeFunction('convertToInteractive',\n",
              "                                                     [key], {});\n",
              "          if (!dataTable) return;\n",
              "\n",
              "          const docLinkHtml = 'Like what you see? Visit the ' +\n",
              "            '<a target=\"_blank\" href=https://colab.research.google.com/notebooks/data_table.ipynb>data table notebook</a>'\n",
              "            + ' to learn more about interactive tables.';\n",
              "          element.innerHTML = '';\n",
              "          dataTable['output_type'] = 'display_data';\n",
              "          await google.colab.output.renderOutput(dataTable, element);\n",
              "          const docLink = document.createElement('div');\n",
              "          docLink.innerHTML = docLinkHtml;\n",
              "          element.appendChild(docLink);\n",
              "        }\n",
              "      </script>\n",
              "    </div>\n",
              "  </div>\n",
              "  "
            ]
          },
          "metadata": {},
          "execution_count": 4
        }
      ]
    },
    {
      "cell_type": "code",
      "source": [
        "df.head()"
      ],
      "metadata": {
        "colab": {
          "base_uri": "https://localhost:8080/",
          "height": 543
        },
        "id": "q8qbFBYd9SbC",
        "outputId": "2afdacb5-99fa-4f83-8722-7deeaa33719c"
      },
      "execution_count": null,
      "outputs": [
        {
          "output_type": "execute_result",
          "data": {
            "text/plain": [
              "                                            App Name  \\\n",
              "0                                            Gakondo   \n",
              "1                                Ampere Battery Info   \n",
              "2                                             Vibook   \n",
              "3  Smart City Trichy Public Service Vehicles 17UC...   \n",
              "4                                            GROW.me   \n",
              "\n",
              "                       App Id       Category  Rating  Rating Count Installs  \\\n",
              "0         com.ishakwe.gakondo      Adventure     0.0           0.0      10+   \n",
              "1  com.webserveis.batteryinfo          Tools     4.4          64.0   5,000+   \n",
              "2        com.doantiepvien.crm   Productivity     0.0           0.0      50+   \n",
              "3     cst.stJoseph.ug17ucs548  Communication     5.0           5.0      10+   \n",
              "4        com.horodyski.grower          Tools     0.0           0.0     100+   \n",
              "\n",
              "   Minimum Installs  Maximum Installs  Free  Price  ...  \\\n",
              "0              10.0                15  True    0.0  ...   \n",
              "1            5000.0              7662  True    0.0  ...   \n",
              "2              50.0                58  True    0.0  ...   \n",
              "3              10.0                19  True    0.0  ...   \n",
              "4             100.0               478  True    0.0  ...   \n",
              "\n",
              "                  Developer Website              Developer Email  \\\n",
              "0       https://beniyizibyose.tk/#/       jean21101999@gmail.com   \n",
              "1   https://webserveis.netlify.app/         webserveis@gmail.com   \n",
              "2                               NaN          vnacrewit@gmail.com   \n",
              "3  http://www.climatesmarttech.com/  climatesmarttech2@gmail.com   \n",
              "4       http://www.horodyski.com.pl    rmilekhorodyski@gmail.com   \n",
              "\n",
              "       Released  Last Updated Content Rating  \\\n",
              "0  Feb 26, 2020  Feb 26, 2020       Everyone   \n",
              "1  May 21, 2020  May 06, 2021       Everyone   \n",
              "2   Aug 9, 2019  Aug 19, 2019       Everyone   \n",
              "3  Sep 10, 2018  Oct 13, 2018       Everyone   \n",
              "4  Feb 21, 2020  Nov 12, 2018       Everyone   \n",
              "\n",
              "                                      Privacy Policy Ad Supported  \\\n",
              "0                 https://beniyizibyose.tk/projects/        False   \n",
              "1  https://dev4phones.wordpress.com/licencia-de-uso/         True   \n",
              "2  https://www.vietnamairlines.com/vn/en/terms-an...        False   \n",
              "3                                                NaN         True   \n",
              "4                        http://www.horodyski.com.pl        False   \n",
              "\n",
              "  In App Purchases Editors Choice      Scraped Time  \n",
              "0            False          False  15-06-2021 20:19  \n",
              "1            False          False  15-06-2021 20:19  \n",
              "2            False          False  15-06-2021 20:19  \n",
              "3            False          False  15-06-2021 20:19  \n",
              "4            False          False  15-06-2021 20:19  \n",
              "\n",
              "[5 rows x 24 columns]"
            ],
            "text/html": [
              "\n",
              "  <div id=\"df-30ca33ab-91a4-422c-a980-c5b454203319\">\n",
              "    <div class=\"colab-df-container\">\n",
              "      <div>\n",
              "<style scoped>\n",
              "    .dataframe tbody tr th:only-of-type {\n",
              "        vertical-align: middle;\n",
              "    }\n",
              "\n",
              "    .dataframe tbody tr th {\n",
              "        vertical-align: top;\n",
              "    }\n",
              "\n",
              "    .dataframe thead th {\n",
              "        text-align: right;\n",
              "    }\n",
              "</style>\n",
              "<table border=\"1\" class=\"dataframe\">\n",
              "  <thead>\n",
              "    <tr style=\"text-align: right;\">\n",
              "      <th></th>\n",
              "      <th>App Name</th>\n",
              "      <th>App Id</th>\n",
              "      <th>Category</th>\n",
              "      <th>Rating</th>\n",
              "      <th>Rating Count</th>\n",
              "      <th>Installs</th>\n",
              "      <th>Minimum Installs</th>\n",
              "      <th>Maximum Installs</th>\n",
              "      <th>Free</th>\n",
              "      <th>Price</th>\n",
              "      <th>...</th>\n",
              "      <th>Developer Website</th>\n",
              "      <th>Developer Email</th>\n",
              "      <th>Released</th>\n",
              "      <th>Last Updated</th>\n",
              "      <th>Content Rating</th>\n",
              "      <th>Privacy Policy</th>\n",
              "      <th>Ad Supported</th>\n",
              "      <th>In App Purchases</th>\n",
              "      <th>Editors Choice</th>\n",
              "      <th>Scraped Time</th>\n",
              "    </tr>\n",
              "  </thead>\n",
              "  <tbody>\n",
              "    <tr>\n",
              "      <th>0</th>\n",
              "      <td>Gakondo</td>\n",
              "      <td>com.ishakwe.gakondo</td>\n",
              "      <td>Adventure</td>\n",
              "      <td>0.0</td>\n",
              "      <td>0.0</td>\n",
              "      <td>10+</td>\n",
              "      <td>10.0</td>\n",
              "      <td>15</td>\n",
              "      <td>True</td>\n",
              "      <td>0.0</td>\n",
              "      <td>...</td>\n",
              "      <td>https://beniyizibyose.tk/#/</td>\n",
              "      <td>jean21101999@gmail.com</td>\n",
              "      <td>Feb 26, 2020</td>\n",
              "      <td>Feb 26, 2020</td>\n",
              "      <td>Everyone</td>\n",
              "      <td>https://beniyizibyose.tk/projects/</td>\n",
              "      <td>False</td>\n",
              "      <td>False</td>\n",
              "      <td>False</td>\n",
              "      <td>15-06-2021 20:19</td>\n",
              "    </tr>\n",
              "    <tr>\n",
              "      <th>1</th>\n",
              "      <td>Ampere Battery Info</td>\n",
              "      <td>com.webserveis.batteryinfo</td>\n",
              "      <td>Tools</td>\n",
              "      <td>4.4</td>\n",
              "      <td>64.0</td>\n",
              "      <td>5,000+</td>\n",
              "      <td>5000.0</td>\n",
              "      <td>7662</td>\n",
              "      <td>True</td>\n",
              "      <td>0.0</td>\n",
              "      <td>...</td>\n",
              "      <td>https://webserveis.netlify.app/</td>\n",
              "      <td>webserveis@gmail.com</td>\n",
              "      <td>May 21, 2020</td>\n",
              "      <td>May 06, 2021</td>\n",
              "      <td>Everyone</td>\n",
              "      <td>https://dev4phones.wordpress.com/licencia-de-uso/</td>\n",
              "      <td>True</td>\n",
              "      <td>False</td>\n",
              "      <td>False</td>\n",
              "      <td>15-06-2021 20:19</td>\n",
              "    </tr>\n",
              "    <tr>\n",
              "      <th>2</th>\n",
              "      <td>Vibook</td>\n",
              "      <td>com.doantiepvien.crm</td>\n",
              "      <td>Productivity</td>\n",
              "      <td>0.0</td>\n",
              "      <td>0.0</td>\n",
              "      <td>50+</td>\n",
              "      <td>50.0</td>\n",
              "      <td>58</td>\n",
              "      <td>True</td>\n",
              "      <td>0.0</td>\n",
              "      <td>...</td>\n",
              "      <td>NaN</td>\n",
              "      <td>vnacrewit@gmail.com</td>\n",
              "      <td>Aug 9, 2019</td>\n",
              "      <td>Aug 19, 2019</td>\n",
              "      <td>Everyone</td>\n",
              "      <td>https://www.vietnamairlines.com/vn/en/terms-an...</td>\n",
              "      <td>False</td>\n",
              "      <td>False</td>\n",
              "      <td>False</td>\n",
              "      <td>15-06-2021 20:19</td>\n",
              "    </tr>\n",
              "    <tr>\n",
              "      <th>3</th>\n",
              "      <td>Smart City Trichy Public Service Vehicles 17UC...</td>\n",
              "      <td>cst.stJoseph.ug17ucs548</td>\n",
              "      <td>Communication</td>\n",
              "      <td>5.0</td>\n",
              "      <td>5.0</td>\n",
              "      <td>10+</td>\n",
              "      <td>10.0</td>\n",
              "      <td>19</td>\n",
              "      <td>True</td>\n",
              "      <td>0.0</td>\n",
              "      <td>...</td>\n",
              "      <td>http://www.climatesmarttech.com/</td>\n",
              "      <td>climatesmarttech2@gmail.com</td>\n",
              "      <td>Sep 10, 2018</td>\n",
              "      <td>Oct 13, 2018</td>\n",
              "      <td>Everyone</td>\n",
              "      <td>NaN</td>\n",
              "      <td>True</td>\n",
              "      <td>False</td>\n",
              "      <td>False</td>\n",
              "      <td>15-06-2021 20:19</td>\n",
              "    </tr>\n",
              "    <tr>\n",
              "      <th>4</th>\n",
              "      <td>GROW.me</td>\n",
              "      <td>com.horodyski.grower</td>\n",
              "      <td>Tools</td>\n",
              "      <td>0.0</td>\n",
              "      <td>0.0</td>\n",
              "      <td>100+</td>\n",
              "      <td>100.0</td>\n",
              "      <td>478</td>\n",
              "      <td>True</td>\n",
              "      <td>0.0</td>\n",
              "      <td>...</td>\n",
              "      <td>http://www.horodyski.com.pl</td>\n",
              "      <td>rmilekhorodyski@gmail.com</td>\n",
              "      <td>Feb 21, 2020</td>\n",
              "      <td>Nov 12, 2018</td>\n",
              "      <td>Everyone</td>\n",
              "      <td>http://www.horodyski.com.pl</td>\n",
              "      <td>False</td>\n",
              "      <td>False</td>\n",
              "      <td>False</td>\n",
              "      <td>15-06-2021 20:19</td>\n",
              "    </tr>\n",
              "  </tbody>\n",
              "</table>\n",
              "<p>5 rows × 24 columns</p>\n",
              "</div>\n",
              "      <button class=\"colab-df-convert\" onclick=\"convertToInteractive('df-30ca33ab-91a4-422c-a980-c5b454203319')\"\n",
              "              title=\"Convert this dataframe to an interactive table.\"\n",
              "              style=\"display:none;\">\n",
              "        \n",
              "  <svg xmlns=\"http://www.w3.org/2000/svg\" height=\"24px\"viewBox=\"0 0 24 24\"\n",
              "       width=\"24px\">\n",
              "    <path d=\"M0 0h24v24H0V0z\" fill=\"none\"/>\n",
              "    <path d=\"M18.56 5.44l.94 2.06.94-2.06 2.06-.94-2.06-.94-.94-2.06-.94 2.06-2.06.94zm-11 1L8.5 8.5l.94-2.06 2.06-.94-2.06-.94L8.5 2.5l-.94 2.06-2.06.94zm10 10l.94 2.06.94-2.06 2.06-.94-2.06-.94-.94-2.06-.94 2.06-2.06.94z\"/><path d=\"M17.41 7.96l-1.37-1.37c-.4-.4-.92-.59-1.43-.59-.52 0-1.04.2-1.43.59L10.3 9.45l-7.72 7.72c-.78.78-.78 2.05 0 2.83L4 21.41c.39.39.9.59 1.41.59.51 0 1.02-.2 1.41-.59l7.78-7.78 2.81-2.81c.8-.78.8-2.07 0-2.86zM5.41 20L4 18.59l7.72-7.72 1.47 1.35L5.41 20z\"/>\n",
              "  </svg>\n",
              "      </button>\n",
              "      \n",
              "  <style>\n",
              "    .colab-df-container {\n",
              "      display:flex;\n",
              "      flex-wrap:wrap;\n",
              "      gap: 12px;\n",
              "    }\n",
              "\n",
              "    .colab-df-convert {\n",
              "      background-color: #E8F0FE;\n",
              "      border: none;\n",
              "      border-radius: 50%;\n",
              "      cursor: pointer;\n",
              "      display: none;\n",
              "      fill: #1967D2;\n",
              "      height: 32px;\n",
              "      padding: 0 0 0 0;\n",
              "      width: 32px;\n",
              "    }\n",
              "\n",
              "    .colab-df-convert:hover {\n",
              "      background-color: #E2EBFA;\n",
              "      box-shadow: 0px 1px 2px rgba(60, 64, 67, 0.3), 0px 1px 3px 1px rgba(60, 64, 67, 0.15);\n",
              "      fill: #174EA6;\n",
              "    }\n",
              "\n",
              "    [theme=dark] .colab-df-convert {\n",
              "      background-color: #3B4455;\n",
              "      fill: #D2E3FC;\n",
              "    }\n",
              "\n",
              "    [theme=dark] .colab-df-convert:hover {\n",
              "      background-color: #434B5C;\n",
              "      box-shadow: 0px 1px 3px 1px rgba(0, 0, 0, 0.15);\n",
              "      filter: drop-shadow(0px 1px 2px rgba(0, 0, 0, 0.3));\n",
              "      fill: #FFFFFF;\n",
              "    }\n",
              "  </style>\n",
              "\n",
              "      <script>\n",
              "        const buttonEl =\n",
              "          document.querySelector('#df-30ca33ab-91a4-422c-a980-c5b454203319 button.colab-df-convert');\n",
              "        buttonEl.style.display =\n",
              "          google.colab.kernel.accessAllowed ? 'block' : 'none';\n",
              "\n",
              "        async function convertToInteractive(key) {\n",
              "          const element = document.querySelector('#df-30ca33ab-91a4-422c-a980-c5b454203319');\n",
              "          const dataTable =\n",
              "            await google.colab.kernel.invokeFunction('convertToInteractive',\n",
              "                                                     [key], {});\n",
              "          if (!dataTable) return;\n",
              "\n",
              "          const docLinkHtml = 'Like what you see? Visit the ' +\n",
              "            '<a target=\"_blank\" href=https://colab.research.google.com/notebooks/data_table.ipynb>data table notebook</a>'\n",
              "            + ' to learn more about interactive tables.';\n",
              "          element.innerHTML = '';\n",
              "          dataTable['output_type'] = 'display_data';\n",
              "          await google.colab.output.renderOutput(dataTable, element);\n",
              "          const docLink = document.createElement('div');\n",
              "          docLink.innerHTML = docLinkHtml;\n",
              "          element.appendChild(docLink);\n",
              "        }\n",
              "      </script>\n",
              "    </div>\n",
              "  </div>\n",
              "  "
            ]
          },
          "metadata": {},
          "execution_count": 5
        }
      ]
    },
    {
      "cell_type": "code",
      "source": [
        "df.head(5)"
      ],
      "metadata": {
        "colab": {
          "base_uri": "https://localhost:8080/",
          "height": 543
        },
        "id": "KbJs6enO9VAR",
        "outputId": "e5cb6296-d989-4118-fd07-30b7a632c981"
      },
      "execution_count": null,
      "outputs": [
        {
          "output_type": "execute_result",
          "data": {
            "text/plain": [
              "                                            App Name  \\\n",
              "0                                            Gakondo   \n",
              "1                                Ampere Battery Info   \n",
              "2                                             Vibook   \n",
              "3  Smart City Trichy Public Service Vehicles 17UC...   \n",
              "4                                            GROW.me   \n",
              "\n",
              "                       App Id       Category  Rating  Rating Count Installs  \\\n",
              "0         com.ishakwe.gakondo      Adventure     0.0           0.0      10+   \n",
              "1  com.webserveis.batteryinfo          Tools     4.4          64.0   5,000+   \n",
              "2        com.doantiepvien.crm   Productivity     0.0           0.0      50+   \n",
              "3     cst.stJoseph.ug17ucs548  Communication     5.0           5.0      10+   \n",
              "4        com.horodyski.grower          Tools     0.0           0.0     100+   \n",
              "\n",
              "   Minimum Installs  Maximum Installs  Free  Price  ...  \\\n",
              "0              10.0                15  True    0.0  ...   \n",
              "1            5000.0              7662  True    0.0  ...   \n",
              "2              50.0                58  True    0.0  ...   \n",
              "3              10.0                19  True    0.0  ...   \n",
              "4             100.0               478  True    0.0  ...   \n",
              "\n",
              "                  Developer Website              Developer Email  \\\n",
              "0       https://beniyizibyose.tk/#/       jean21101999@gmail.com   \n",
              "1   https://webserveis.netlify.app/         webserveis@gmail.com   \n",
              "2                               NaN          vnacrewit@gmail.com   \n",
              "3  http://www.climatesmarttech.com/  climatesmarttech2@gmail.com   \n",
              "4       http://www.horodyski.com.pl    rmilekhorodyski@gmail.com   \n",
              "\n",
              "       Released  Last Updated Content Rating  \\\n",
              "0  Feb 26, 2020  Feb 26, 2020       Everyone   \n",
              "1  May 21, 2020  May 06, 2021       Everyone   \n",
              "2   Aug 9, 2019  Aug 19, 2019       Everyone   \n",
              "3  Sep 10, 2018  Oct 13, 2018       Everyone   \n",
              "4  Feb 21, 2020  Nov 12, 2018       Everyone   \n",
              "\n",
              "                                      Privacy Policy Ad Supported  \\\n",
              "0                 https://beniyizibyose.tk/projects/        False   \n",
              "1  https://dev4phones.wordpress.com/licencia-de-uso/         True   \n",
              "2  https://www.vietnamairlines.com/vn/en/terms-an...        False   \n",
              "3                                                NaN         True   \n",
              "4                        http://www.horodyski.com.pl        False   \n",
              "\n",
              "  In App Purchases Editors Choice      Scraped Time  \n",
              "0            False          False  15-06-2021 20:19  \n",
              "1            False          False  15-06-2021 20:19  \n",
              "2            False          False  15-06-2021 20:19  \n",
              "3            False          False  15-06-2021 20:19  \n",
              "4            False          False  15-06-2021 20:19  \n",
              "\n",
              "[5 rows x 24 columns]"
            ],
            "text/html": [
              "\n",
              "  <div id=\"df-f736c0f2-bf2f-4ea9-8300-2661088469c3\">\n",
              "    <div class=\"colab-df-container\">\n",
              "      <div>\n",
              "<style scoped>\n",
              "    .dataframe tbody tr th:only-of-type {\n",
              "        vertical-align: middle;\n",
              "    }\n",
              "\n",
              "    .dataframe tbody tr th {\n",
              "        vertical-align: top;\n",
              "    }\n",
              "\n",
              "    .dataframe thead th {\n",
              "        text-align: right;\n",
              "    }\n",
              "</style>\n",
              "<table border=\"1\" class=\"dataframe\">\n",
              "  <thead>\n",
              "    <tr style=\"text-align: right;\">\n",
              "      <th></th>\n",
              "      <th>App Name</th>\n",
              "      <th>App Id</th>\n",
              "      <th>Category</th>\n",
              "      <th>Rating</th>\n",
              "      <th>Rating Count</th>\n",
              "      <th>Installs</th>\n",
              "      <th>Minimum Installs</th>\n",
              "      <th>Maximum Installs</th>\n",
              "      <th>Free</th>\n",
              "      <th>Price</th>\n",
              "      <th>...</th>\n",
              "      <th>Developer Website</th>\n",
              "      <th>Developer Email</th>\n",
              "      <th>Released</th>\n",
              "      <th>Last Updated</th>\n",
              "      <th>Content Rating</th>\n",
              "      <th>Privacy Policy</th>\n",
              "      <th>Ad Supported</th>\n",
              "      <th>In App Purchases</th>\n",
              "      <th>Editors Choice</th>\n",
              "      <th>Scraped Time</th>\n",
              "    </tr>\n",
              "  </thead>\n",
              "  <tbody>\n",
              "    <tr>\n",
              "      <th>0</th>\n",
              "      <td>Gakondo</td>\n",
              "      <td>com.ishakwe.gakondo</td>\n",
              "      <td>Adventure</td>\n",
              "      <td>0.0</td>\n",
              "      <td>0.0</td>\n",
              "      <td>10+</td>\n",
              "      <td>10.0</td>\n",
              "      <td>15</td>\n",
              "      <td>True</td>\n",
              "      <td>0.0</td>\n",
              "      <td>...</td>\n",
              "      <td>https://beniyizibyose.tk/#/</td>\n",
              "      <td>jean21101999@gmail.com</td>\n",
              "      <td>Feb 26, 2020</td>\n",
              "      <td>Feb 26, 2020</td>\n",
              "      <td>Everyone</td>\n",
              "      <td>https://beniyizibyose.tk/projects/</td>\n",
              "      <td>False</td>\n",
              "      <td>False</td>\n",
              "      <td>False</td>\n",
              "      <td>15-06-2021 20:19</td>\n",
              "    </tr>\n",
              "    <tr>\n",
              "      <th>1</th>\n",
              "      <td>Ampere Battery Info</td>\n",
              "      <td>com.webserveis.batteryinfo</td>\n",
              "      <td>Tools</td>\n",
              "      <td>4.4</td>\n",
              "      <td>64.0</td>\n",
              "      <td>5,000+</td>\n",
              "      <td>5000.0</td>\n",
              "      <td>7662</td>\n",
              "      <td>True</td>\n",
              "      <td>0.0</td>\n",
              "      <td>...</td>\n",
              "      <td>https://webserveis.netlify.app/</td>\n",
              "      <td>webserveis@gmail.com</td>\n",
              "      <td>May 21, 2020</td>\n",
              "      <td>May 06, 2021</td>\n",
              "      <td>Everyone</td>\n",
              "      <td>https://dev4phones.wordpress.com/licencia-de-uso/</td>\n",
              "      <td>True</td>\n",
              "      <td>False</td>\n",
              "      <td>False</td>\n",
              "      <td>15-06-2021 20:19</td>\n",
              "    </tr>\n",
              "    <tr>\n",
              "      <th>2</th>\n",
              "      <td>Vibook</td>\n",
              "      <td>com.doantiepvien.crm</td>\n",
              "      <td>Productivity</td>\n",
              "      <td>0.0</td>\n",
              "      <td>0.0</td>\n",
              "      <td>50+</td>\n",
              "      <td>50.0</td>\n",
              "      <td>58</td>\n",
              "      <td>True</td>\n",
              "      <td>0.0</td>\n",
              "      <td>...</td>\n",
              "      <td>NaN</td>\n",
              "      <td>vnacrewit@gmail.com</td>\n",
              "      <td>Aug 9, 2019</td>\n",
              "      <td>Aug 19, 2019</td>\n",
              "      <td>Everyone</td>\n",
              "      <td>https://www.vietnamairlines.com/vn/en/terms-an...</td>\n",
              "      <td>False</td>\n",
              "      <td>False</td>\n",
              "      <td>False</td>\n",
              "      <td>15-06-2021 20:19</td>\n",
              "    </tr>\n",
              "    <tr>\n",
              "      <th>3</th>\n",
              "      <td>Smart City Trichy Public Service Vehicles 17UC...</td>\n",
              "      <td>cst.stJoseph.ug17ucs548</td>\n",
              "      <td>Communication</td>\n",
              "      <td>5.0</td>\n",
              "      <td>5.0</td>\n",
              "      <td>10+</td>\n",
              "      <td>10.0</td>\n",
              "      <td>19</td>\n",
              "      <td>True</td>\n",
              "      <td>0.0</td>\n",
              "      <td>...</td>\n",
              "      <td>http://www.climatesmarttech.com/</td>\n",
              "      <td>climatesmarttech2@gmail.com</td>\n",
              "      <td>Sep 10, 2018</td>\n",
              "      <td>Oct 13, 2018</td>\n",
              "      <td>Everyone</td>\n",
              "      <td>NaN</td>\n",
              "      <td>True</td>\n",
              "      <td>False</td>\n",
              "      <td>False</td>\n",
              "      <td>15-06-2021 20:19</td>\n",
              "    </tr>\n",
              "    <tr>\n",
              "      <th>4</th>\n",
              "      <td>GROW.me</td>\n",
              "      <td>com.horodyski.grower</td>\n",
              "      <td>Tools</td>\n",
              "      <td>0.0</td>\n",
              "      <td>0.0</td>\n",
              "      <td>100+</td>\n",
              "      <td>100.0</td>\n",
              "      <td>478</td>\n",
              "      <td>True</td>\n",
              "      <td>0.0</td>\n",
              "      <td>...</td>\n",
              "      <td>http://www.horodyski.com.pl</td>\n",
              "      <td>rmilekhorodyski@gmail.com</td>\n",
              "      <td>Feb 21, 2020</td>\n",
              "      <td>Nov 12, 2018</td>\n",
              "      <td>Everyone</td>\n",
              "      <td>http://www.horodyski.com.pl</td>\n",
              "      <td>False</td>\n",
              "      <td>False</td>\n",
              "      <td>False</td>\n",
              "      <td>15-06-2021 20:19</td>\n",
              "    </tr>\n",
              "  </tbody>\n",
              "</table>\n",
              "<p>5 rows × 24 columns</p>\n",
              "</div>\n",
              "      <button class=\"colab-df-convert\" onclick=\"convertToInteractive('df-f736c0f2-bf2f-4ea9-8300-2661088469c3')\"\n",
              "              title=\"Convert this dataframe to an interactive table.\"\n",
              "              style=\"display:none;\">\n",
              "        \n",
              "  <svg xmlns=\"http://www.w3.org/2000/svg\" height=\"24px\"viewBox=\"0 0 24 24\"\n",
              "       width=\"24px\">\n",
              "    <path d=\"M0 0h24v24H0V0z\" fill=\"none\"/>\n",
              "    <path d=\"M18.56 5.44l.94 2.06.94-2.06 2.06-.94-2.06-.94-.94-2.06-.94 2.06-2.06.94zm-11 1L8.5 8.5l.94-2.06 2.06-.94-2.06-.94L8.5 2.5l-.94 2.06-2.06.94zm10 10l.94 2.06.94-2.06 2.06-.94-2.06-.94-.94-2.06-.94 2.06-2.06.94z\"/><path d=\"M17.41 7.96l-1.37-1.37c-.4-.4-.92-.59-1.43-.59-.52 0-1.04.2-1.43.59L10.3 9.45l-7.72 7.72c-.78.78-.78 2.05 0 2.83L4 21.41c.39.39.9.59 1.41.59.51 0 1.02-.2 1.41-.59l7.78-7.78 2.81-2.81c.8-.78.8-2.07 0-2.86zM5.41 20L4 18.59l7.72-7.72 1.47 1.35L5.41 20z\"/>\n",
              "  </svg>\n",
              "      </button>\n",
              "      \n",
              "  <style>\n",
              "    .colab-df-container {\n",
              "      display:flex;\n",
              "      flex-wrap:wrap;\n",
              "      gap: 12px;\n",
              "    }\n",
              "\n",
              "    .colab-df-convert {\n",
              "      background-color: #E8F0FE;\n",
              "      border: none;\n",
              "      border-radius: 50%;\n",
              "      cursor: pointer;\n",
              "      display: none;\n",
              "      fill: #1967D2;\n",
              "      height: 32px;\n",
              "      padding: 0 0 0 0;\n",
              "      width: 32px;\n",
              "    }\n",
              "\n",
              "    .colab-df-convert:hover {\n",
              "      background-color: #E2EBFA;\n",
              "      box-shadow: 0px 1px 2px rgba(60, 64, 67, 0.3), 0px 1px 3px 1px rgba(60, 64, 67, 0.15);\n",
              "      fill: #174EA6;\n",
              "    }\n",
              "\n",
              "    [theme=dark] .colab-df-convert {\n",
              "      background-color: #3B4455;\n",
              "      fill: #D2E3FC;\n",
              "    }\n",
              "\n",
              "    [theme=dark] .colab-df-convert:hover {\n",
              "      background-color: #434B5C;\n",
              "      box-shadow: 0px 1px 3px 1px rgba(0, 0, 0, 0.15);\n",
              "      filter: drop-shadow(0px 1px 2px rgba(0, 0, 0, 0.3));\n",
              "      fill: #FFFFFF;\n",
              "    }\n",
              "  </style>\n",
              "\n",
              "      <script>\n",
              "        const buttonEl =\n",
              "          document.querySelector('#df-f736c0f2-bf2f-4ea9-8300-2661088469c3 button.colab-df-convert');\n",
              "        buttonEl.style.display =\n",
              "          google.colab.kernel.accessAllowed ? 'block' : 'none';\n",
              "\n",
              "        async function convertToInteractive(key) {\n",
              "          const element = document.querySelector('#df-f736c0f2-bf2f-4ea9-8300-2661088469c3');\n",
              "          const dataTable =\n",
              "            await google.colab.kernel.invokeFunction('convertToInteractive',\n",
              "                                                     [key], {});\n",
              "          if (!dataTable) return;\n",
              "\n",
              "          const docLinkHtml = 'Like what you see? Visit the ' +\n",
              "            '<a target=\"_blank\" href=https://colab.research.google.com/notebooks/data_table.ipynb>data table notebook</a>'\n",
              "            + ' to learn more about interactive tables.';\n",
              "          element.innerHTML = '';\n",
              "          dataTable['output_type'] = 'display_data';\n",
              "          await google.colab.output.renderOutput(dataTable, element);\n",
              "          const docLink = document.createElement('div');\n",
              "          docLink.innerHTML = docLinkHtml;\n",
              "          element.appendChild(docLink);\n",
              "        }\n",
              "      </script>\n",
              "    </div>\n",
              "  </div>\n",
              "  "
            ]
          },
          "metadata": {},
          "execution_count": 6
        }
      ]
    },
    {
      "cell_type": "code",
      "source": [
        "df.columns"
      ],
      "metadata": {
        "colab": {
          "base_uri": "https://localhost:8080/"
        },
        "id": "PRdWpEdA9p4R",
        "outputId": "2cbf7d65-ee36-44c4-8be0-2fa8a35752f8"
      },
      "execution_count": null,
      "outputs": [
        {
          "output_type": "execute_result",
          "data": {
            "text/plain": [
              "Index(['App Name', 'App Id', 'Category', 'Rating', 'Rating Count', 'Installs',\n",
              "       'Minimum Installs', 'Maximum Installs', 'Free', 'Price', 'Currency',\n",
              "       'Size', 'Minimum Android', 'Developer Id', 'Developer Website',\n",
              "       'Developer Email', 'Released', 'Last Updated', 'Content Rating',\n",
              "       'Privacy Policy', 'Ad Supported', 'In App Purchases', 'Editors Choice',\n",
              "       'Scraped Time'],\n",
              "      dtype='object')"
            ]
          },
          "metadata": {},
          "execution_count": 7
        }
      ]
    },
    {
      "cell_type": "code",
      "source": [
        "df.shape"
      ],
      "metadata": {
        "colab": {
          "base_uri": "https://localhost:8080/"
        },
        "id": "JlpxOCIf-O_S",
        "outputId": "2936ef1f-c479-4c7e-b502-bface2769f90"
      },
      "execution_count": null,
      "outputs": [
        {
          "output_type": "execute_result",
          "data": {
            "text/plain": [
              "(11998, 24)"
            ]
          },
          "metadata": {},
          "execution_count": 8
        }
      ]
    },
    {
      "cell_type": "code",
      "source": [
        "df.info()"
      ],
      "metadata": {
        "colab": {
          "base_uri": "https://localhost:8080/"
        },
        "id": "N9tA5P4e-Qwb",
        "outputId": "f442a448-4836-4f30-82d4-f628169d6ef9"
      },
      "execution_count": null,
      "outputs": [
        {
          "output_type": "stream",
          "name": "stdout",
          "text": [
            "<class 'pandas.core.frame.DataFrame'>\n",
            "RangeIndex: 11998 entries, 0 to 11997\n",
            "Data columns (total 24 columns):\n",
            " #   Column             Non-Null Count  Dtype  \n",
            "---  ------             --------------  -----  \n",
            " 0   App Name           11998 non-null  object \n",
            " 1   App Id             11998 non-null  object \n",
            " 2   Category           11998 non-null  object \n",
            " 3   Rating             11890 non-null  float64\n",
            " 4   Rating Count       11890 non-null  float64\n",
            " 5   Installs           11997 non-null  object \n",
            " 6   Minimum Installs   11997 non-null  float64\n",
            " 7   Maximum Installs   11998 non-null  int64  \n",
            " 8   Free               11998 non-null  bool   \n",
            " 9   Price              11998 non-null  float64\n",
            " 10  Currency           11997 non-null  object \n",
            " 11  Size               11998 non-null  object \n",
            " 12  Minimum Android    11962 non-null  object \n",
            " 13  Developer Id       11998 non-null  object \n",
            " 14  Developer Website  8094 non-null   object \n",
            " 15  Developer Email    11998 non-null  object \n",
            " 16  Released           11650 non-null  object \n",
            " 17  Last Updated       11998 non-null  object \n",
            " 18  Content Rating     11998 non-null  object \n",
            " 19  Privacy Policy     9825 non-null   object \n",
            " 20  Ad Supported       11998 non-null  bool   \n",
            " 21  In App Purchases   11998 non-null  bool   \n",
            " 22  Editors Choice     11998 non-null  bool   \n",
            " 23  Scraped Time       11998 non-null  object \n",
            "dtypes: bool(4), float64(4), int64(1), object(15)\n",
            "memory usage: 1.9+ MB\n"
          ]
        }
      ]
    },
    {
      "cell_type": "markdown",
      "source": [
        "## Observation:\n",
        "\n",
        "---\n",
        "1. The dataset having   11998 rows and 24 columns \n",
        "2. The columns in the dataset are:\n",
        " \n",
        "        'App Name', 'App Id', 'Category', 'Rating', 'Rating Count, Installs','Minimum Installs', 'Maximum Installs', 'Free', 'Price', \n",
        "        'Currency','Size', 'Minimum Android', 'Developer Id', 'Developer Website','Developer Email', 'Released', 'Last Updated', \n",
        "        'Content Rating','Privacy Policy', 'Ad Supported', 'In App Purchases', 'Editors Choice','Scraped Time'"
      ],
      "metadata": {
        "id": "iGIjt-im-eLm"
      }
    },
    {
      "cell_type": "markdown",
      "source": [
        "## Descriptive statistics"
      ],
      "metadata": {
        "id": "JQYuALpg-05n"
      }
    },
    {
      "cell_type": "code",
      "source": [
        "df.describe()"
      ],
      "metadata": {
        "colab": {
          "base_uri": "https://localhost:8080/",
          "height": 300
        },
        "id": "FFdkAaTv-V4i",
        "outputId": "58f0a8d8-93c7-4dec-ee1f-62d79942cd5f"
      },
      "execution_count": null,
      "outputs": [
        {
          "output_type": "execute_result",
          "data": {
            "text/plain": [
              "             Rating  Rating Count  Minimum Installs  Maximum Installs  \\\n",
              "count  11890.000000  1.189000e+04      1.199700e+04      1.199800e+04   \n",
              "mean       2.218099  1.522695e+03      9.617428e+04      1.644966e+05   \n",
              "std        2.109609  2.451667e+04      1.566831e+06      2.175148e+06   \n",
              "min        0.000000  0.000000e+00      0.000000e+00      0.000000e+00   \n",
              "25%        0.000000  0.000000e+00      5.000000e+01      8.500000e+01   \n",
              "50%        3.000000  6.000000e+00      5.000000e+02      6.970000e+02   \n",
              "75%        4.300000  4.400000e+01      5.000000e+03      7.404500e+03   \n",
              "max        5.000000  1.264773e+06      1.000000e+08      1.254455e+08   \n",
              "\n",
              "              Price  \n",
              "count  11998.000000  \n",
              "mean       0.099073  \n",
              "std        1.603008  \n",
              "min        0.000000  \n",
              "25%        0.000000  \n",
              "50%        0.000000  \n",
              "75%        0.000000  \n",
              "max       99.990000  "
            ],
            "text/html": [
              "\n",
              "  <div id=\"df-6d7caeeb-3da2-4a33-8b89-3a17f4dddc40\">\n",
              "    <div class=\"colab-df-container\">\n",
              "      <div>\n",
              "<style scoped>\n",
              "    .dataframe tbody tr th:only-of-type {\n",
              "        vertical-align: middle;\n",
              "    }\n",
              "\n",
              "    .dataframe tbody tr th {\n",
              "        vertical-align: top;\n",
              "    }\n",
              "\n",
              "    .dataframe thead th {\n",
              "        text-align: right;\n",
              "    }\n",
              "</style>\n",
              "<table border=\"1\" class=\"dataframe\">\n",
              "  <thead>\n",
              "    <tr style=\"text-align: right;\">\n",
              "      <th></th>\n",
              "      <th>Rating</th>\n",
              "      <th>Rating Count</th>\n",
              "      <th>Minimum Installs</th>\n",
              "      <th>Maximum Installs</th>\n",
              "      <th>Price</th>\n",
              "    </tr>\n",
              "  </thead>\n",
              "  <tbody>\n",
              "    <tr>\n",
              "      <th>count</th>\n",
              "      <td>11890.000000</td>\n",
              "      <td>1.189000e+04</td>\n",
              "      <td>1.199700e+04</td>\n",
              "      <td>1.199800e+04</td>\n",
              "      <td>11998.000000</td>\n",
              "    </tr>\n",
              "    <tr>\n",
              "      <th>mean</th>\n",
              "      <td>2.218099</td>\n",
              "      <td>1.522695e+03</td>\n",
              "      <td>9.617428e+04</td>\n",
              "      <td>1.644966e+05</td>\n",
              "      <td>0.099073</td>\n",
              "    </tr>\n",
              "    <tr>\n",
              "      <th>std</th>\n",
              "      <td>2.109609</td>\n",
              "      <td>2.451667e+04</td>\n",
              "      <td>1.566831e+06</td>\n",
              "      <td>2.175148e+06</td>\n",
              "      <td>1.603008</td>\n",
              "    </tr>\n",
              "    <tr>\n",
              "      <th>min</th>\n",
              "      <td>0.000000</td>\n",
              "      <td>0.000000e+00</td>\n",
              "      <td>0.000000e+00</td>\n",
              "      <td>0.000000e+00</td>\n",
              "      <td>0.000000</td>\n",
              "    </tr>\n",
              "    <tr>\n",
              "      <th>25%</th>\n",
              "      <td>0.000000</td>\n",
              "      <td>0.000000e+00</td>\n",
              "      <td>5.000000e+01</td>\n",
              "      <td>8.500000e+01</td>\n",
              "      <td>0.000000</td>\n",
              "    </tr>\n",
              "    <tr>\n",
              "      <th>50%</th>\n",
              "      <td>3.000000</td>\n",
              "      <td>6.000000e+00</td>\n",
              "      <td>5.000000e+02</td>\n",
              "      <td>6.970000e+02</td>\n",
              "      <td>0.000000</td>\n",
              "    </tr>\n",
              "    <tr>\n",
              "      <th>75%</th>\n",
              "      <td>4.300000</td>\n",
              "      <td>4.400000e+01</td>\n",
              "      <td>5.000000e+03</td>\n",
              "      <td>7.404500e+03</td>\n",
              "      <td>0.000000</td>\n",
              "    </tr>\n",
              "    <tr>\n",
              "      <th>max</th>\n",
              "      <td>5.000000</td>\n",
              "      <td>1.264773e+06</td>\n",
              "      <td>1.000000e+08</td>\n",
              "      <td>1.254455e+08</td>\n",
              "      <td>99.990000</td>\n",
              "    </tr>\n",
              "  </tbody>\n",
              "</table>\n",
              "</div>\n",
              "      <button class=\"colab-df-convert\" onclick=\"convertToInteractive('df-6d7caeeb-3da2-4a33-8b89-3a17f4dddc40')\"\n",
              "              title=\"Convert this dataframe to an interactive table.\"\n",
              "              style=\"display:none;\">\n",
              "        \n",
              "  <svg xmlns=\"http://www.w3.org/2000/svg\" height=\"24px\"viewBox=\"0 0 24 24\"\n",
              "       width=\"24px\">\n",
              "    <path d=\"M0 0h24v24H0V0z\" fill=\"none\"/>\n",
              "    <path d=\"M18.56 5.44l.94 2.06.94-2.06 2.06-.94-2.06-.94-.94-2.06-.94 2.06-2.06.94zm-11 1L8.5 8.5l.94-2.06 2.06-.94-2.06-.94L8.5 2.5l-.94 2.06-2.06.94zm10 10l.94 2.06.94-2.06 2.06-.94-2.06-.94-.94-2.06-.94 2.06-2.06.94z\"/><path d=\"M17.41 7.96l-1.37-1.37c-.4-.4-.92-.59-1.43-.59-.52 0-1.04.2-1.43.59L10.3 9.45l-7.72 7.72c-.78.78-.78 2.05 0 2.83L4 21.41c.39.39.9.59 1.41.59.51 0 1.02-.2 1.41-.59l7.78-7.78 2.81-2.81c.8-.78.8-2.07 0-2.86zM5.41 20L4 18.59l7.72-7.72 1.47 1.35L5.41 20z\"/>\n",
              "  </svg>\n",
              "      </button>\n",
              "      \n",
              "  <style>\n",
              "    .colab-df-container {\n",
              "      display:flex;\n",
              "      flex-wrap:wrap;\n",
              "      gap: 12px;\n",
              "    }\n",
              "\n",
              "    .colab-df-convert {\n",
              "      background-color: #E8F0FE;\n",
              "      border: none;\n",
              "      border-radius: 50%;\n",
              "      cursor: pointer;\n",
              "      display: none;\n",
              "      fill: #1967D2;\n",
              "      height: 32px;\n",
              "      padding: 0 0 0 0;\n",
              "      width: 32px;\n",
              "    }\n",
              "\n",
              "    .colab-df-convert:hover {\n",
              "      background-color: #E2EBFA;\n",
              "      box-shadow: 0px 1px 2px rgba(60, 64, 67, 0.3), 0px 1px 3px 1px rgba(60, 64, 67, 0.15);\n",
              "      fill: #174EA6;\n",
              "    }\n",
              "\n",
              "    [theme=dark] .colab-df-convert {\n",
              "      background-color: #3B4455;\n",
              "      fill: #D2E3FC;\n",
              "    }\n",
              "\n",
              "    [theme=dark] .colab-df-convert:hover {\n",
              "      background-color: #434B5C;\n",
              "      box-shadow: 0px 1px 3px 1px rgba(0, 0, 0, 0.15);\n",
              "      filter: drop-shadow(0px 1px 2px rgba(0, 0, 0, 0.3));\n",
              "      fill: #FFFFFF;\n",
              "    }\n",
              "  </style>\n",
              "\n",
              "      <script>\n",
              "        const buttonEl =\n",
              "          document.querySelector('#df-6d7caeeb-3da2-4a33-8b89-3a17f4dddc40 button.colab-df-convert');\n",
              "        buttonEl.style.display =\n",
              "          google.colab.kernel.accessAllowed ? 'block' : 'none';\n",
              "\n",
              "        async function convertToInteractive(key) {\n",
              "          const element = document.querySelector('#df-6d7caeeb-3da2-4a33-8b89-3a17f4dddc40');\n",
              "          const dataTable =\n",
              "            await google.colab.kernel.invokeFunction('convertToInteractive',\n",
              "                                                     [key], {});\n",
              "          if (!dataTable) return;\n",
              "\n",
              "          const docLinkHtml = 'Like what you see? Visit the ' +\n",
              "            '<a target=\"_blank\" href=https://colab.research.google.com/notebooks/data_table.ipynb>data table notebook</a>'\n",
              "            + ' to learn more about interactive tables.';\n",
              "          element.innerHTML = '';\n",
              "          dataTable['output_type'] = 'display_data';\n",
              "          await google.colab.output.renderOutput(dataTable, element);\n",
              "          const docLink = document.createElement('div');\n",
              "          docLink.innerHTML = docLinkHtml;\n",
              "          element.appendChild(docLink);\n",
              "        }\n",
              "      </script>\n",
              "    </div>\n",
              "  </div>\n",
              "  "
            ]
          },
          "metadata": {},
          "execution_count": 10
        }
      ]
    },
    {
      "cell_type": "markdown",
      "source": [],
      "metadata": {
        "id": "qQhmwl1c-Ho8"
      }
    },
    {
      "cell_type": "markdown",
      "source": [
        "## Observation :    \n",
        "\n",
        "---\n",
        "1. we have 5 numerical columns in our dataset"
      ],
      "metadata": {
        "id": "UCuGnOWY_FpQ"
      }
    },
    {
      "cell_type": "code",
      "source": [
        "df.isnull().sum()"
      ],
      "metadata": {
        "colab": {
          "base_uri": "https://localhost:8080/"
        },
        "id": "L-U3HXkK-reP",
        "outputId": "dfdfcab2-b300-418d-9b7e-bbf61c3f4d72"
      },
      "execution_count": null,
      "outputs": [
        {
          "output_type": "execute_result",
          "data": {
            "text/plain": [
              "App Name                0\n",
              "App Id                  0\n",
              "Category                0\n",
              "Rating                108\n",
              "Rating Count          108\n",
              "Installs                1\n",
              "Minimum Installs        1\n",
              "Maximum Installs        0\n",
              "Free                    0\n",
              "Price                   0\n",
              "Currency                1\n",
              "Size                    0\n",
              "Minimum Android        36\n",
              "Developer Id            0\n",
              "Developer Website    3904\n",
              "Developer Email         0\n",
              "Released              348\n",
              "Last Updated            0\n",
              "Content Rating          0\n",
              "Privacy Policy       2173\n",
              "Ad Supported            0\n",
              "In App Purchases        0\n",
              "Editors Choice          0\n",
              "Scraped Time            0\n",
              "dtype: int64"
            ]
          },
          "metadata": {},
          "execution_count": 11
        }
      ]
    },
    {
      "cell_type": "markdown",
      "source": [
        "## Missing values in the data"
      ],
      "metadata": {
        "id": "0rizUsAZDeM8"
      }
    },
    {
      "cell_type": "code",
      "source": [
        "df.isnull().sum().sort_values(ascending = False)"
      ],
      "metadata": {
        "colab": {
          "base_uri": "https://localhost:8080/"
        },
        "id": "x564nH5oAQ3i",
        "outputId": "6deadc7f-f308-43ec-dfa0-ea118266d14c"
      },
      "execution_count": null,
      "outputs": [
        {
          "output_type": "execute_result",
          "data": {
            "text/plain": [
              "Developer Website    3904\n",
              "Privacy Policy       2173\n",
              "Released              348\n",
              "Rating                108\n",
              "Rating Count          108\n",
              "Minimum Android        36\n",
              "Installs                1\n",
              "Minimum Installs        1\n",
              "Currency                1\n",
              "Developer Email         0\n",
              "Editors Choice          0\n",
              "In App Purchases        0\n",
              "Ad Supported            0\n",
              "Content Rating          0\n",
              "Last Updated            0\n",
              "App Name                0\n",
              "Developer Id            0\n",
              "App Id                  0\n",
              "Size                    0\n",
              "Price                   0\n",
              "Free                    0\n",
              "Maximum Installs        0\n",
              "Category                0\n",
              "Scraped Time            0\n",
              "dtype: int64"
            ]
          },
          "metadata": {},
          "execution_count": 12
        }
      ]
    },
    {
      "cell_type": "markdown",
      "source": [],
      "metadata": {
        "id": "2cfqlhgFDnxZ"
      }
    },
    {
      "cell_type": "markdown",
      "source": [
        "# **Exploratory Analysis and Visualization**"
      ],
      "metadata": {
        "id": "-1bXSOsQDgSb"
      }
    },
    {
      "cell_type": "markdown",
      "source": [
        "## Let's plot the missing null values"
      ],
      "metadata": {
        "id": "eGgQYxczDo9K"
      }
    },
    {
      "cell_type": "code",
      "source": [
        "import matplotlib\n",
        "matplotlib.rcParams['figure.figsize'] = (20,6)\n",
        "sns.heatmap(df.isnull(),yticklabels = False, cbar = False , cmap = 'viridis')\n",
        "plt.title(\"Missing null values\")"
      ],
      "metadata": {
        "colab": {
          "base_uri": "https://localhost:8080/",
          "height": 416
        },
        "id": "mL6t70lYCmQh",
        "outputId": "6d1ea701-bad6-4b87-9449-e33b80a6d8ab"
      },
      "execution_count": null,
      "outputs": [
        {
          "output_type": "execute_result",
          "data": {
            "text/plain": [
              "Text(0.5, 1.0, 'Missing null values')"
            ]
          },
          "metadata": {},
          "execution_count": 13
        },
        {
          "output_type": "display_data",
          "data": {
            "text/plain": [
              "<Figure size 1440x432 with 1 Axes>"
            ],
            "image/png": "[encoded data removed]"
          },
          "metadata": {
            "needs_background": "light"
          }
        }
      ]
    },
    {
      "cell_type": "markdown",
      "source": [
        "Let's see the missing percentage in data"
      ],
      "metadata": {
        "id": "V1oBZBClE3Qv"
      }
    },
    {
      "cell_type": "code",
      "source": [
        "missing_percentage = df.isnull().sum().sort_values(ascending = False)/len(df)\n",
        "missing_percentage"
      ],
      "metadata": {
        "colab": {
          "base_uri": "https://localhost:8080/"
        },
        "id": "EyB5ZbedFAYQ",
        "outputId": "41e2250c-126f-4c78-a74c-b09961739ddc"
      },
      "execution_count": null,
      "outputs": [
        {
          "output_type": "execute_result",
          "data": {
            "text/plain": [
              "Developer Website    0.325388\n",
              "Privacy Policy       0.181114\n",
              "Released             0.029005\n",
              "Rating               0.009002\n",
              "Rating Count         0.009002\n",
              "Minimum Android      0.003001\n",
              "Installs             0.000083\n",
              "Minimum Installs     0.000083\n",
              "Currency             0.000083\n",
              "Developer Email      0.000000\n",
              "Editors Choice       0.000000\n",
              "In App Purchases     0.000000\n",
              "Ad Supported         0.000000\n",
              "Content Rating       0.000000\n",
              "Last Updated         0.000000\n",
              "App Name             0.000000\n",
              "Developer Id         0.000000\n",
              "App Id               0.000000\n",
              "Size                 0.000000\n",
              "Price                0.000000\n",
              "Free                 0.000000\n",
              "Maximum Installs     0.000000\n",
              "Category             0.000000\n",
              "Scraped Time         0.000000\n",
              "dtype: float64"
            ]
          },
          "metadata": {},
          "execution_count": 14
        }
      ]
    },
    {
      "cell_type": "markdown",
      "source": [
        "## Let's plot the missing percentage of null values"
      ],
      "metadata": {
        "id": "CKZPSVpW1NmC"
      }
    },
    {
      "cell_type": "code",
      "source": [
        "missing_percentage = missing_percentage[missing_percentage != 0] # Only the missing data\n",
        "import matplotlib\n",
        "matplotlib.rcParams['figure.figsize'] = (20,6)\n",
        "missing_percentage.plot(kind = 'barh')\n",
        "plt.title(\"Missig percentage of null values\")"
      ],
      "metadata": {
        "colab": {
          "base_uri": "https://localhost:8080/",
          "height": 320
        },
        "id": "mBazZUkQ1EPC",
        "outputId": "1061644c-842f-486c-b9f1-0f53dc816e31"
      },
      "execution_count": null,
      "outputs": [
        {
          "output_type": "execute_result",
          "data": {
            "text/plain": [
              "Text(0.5, 1.0, 'Missig percentage of null values')"
            ]
          },
          "metadata": {},
          "execution_count": 15
        },
        {
          "output_type": "display_data",
          "data": {
            "text/plain": [
              "<Figure size 1440x432 with 1 Axes>"
            ],
            "image/png": "[encoded data removed]"
          },
          "metadata": {
            "needs_background": "light"
          }
        }
      ]
    },
    {
      "cell_type": "code",
      "source": [],
      "metadata": {
        "id": "haG5p_8E1zQW"
      },
      "execution_count": null,
      "outputs": []
    },
    {
      "cell_type": "markdown",
      "source": [
        "## Observation : \n",
        "##Dealing with the null values\n",
        "###1. The columns having highest percentage of null values are :\n",
        "* Developer Website  \n",
        "* Privacy Policy\n",
        "\n",
        "these two are not that much helpful if we want we can drop these columns and in the further steps we drop and add some features in the dataset after the Analysis.\n",
        "\n",
        "###2. we can drop the small null values for the columns\n",
        "\n",
        "* Size                 \n",
        "* Currency             \n",
        "* Installs             \n",
        "* Minimum Installs     \n",
        "* Developer Id         \n",
        "* Developer Email\n",
        "\n",
        "###3. Rating,Rating Count,Released are important column so it is good to fill the null values.\n",
        "\n",
        "* Rating \n",
        "* Rating count\n",
        "* Minimum Andriod \n",
        "* Released \n"
      ],
      "metadata": {
        "id": "yJxjWCOK1kID"
      }
    },
    {
      "cell_type": "markdown",
      "source": [
        "## from observation 2 droping the null values of the columns got selected "
      ],
      "metadata": {
        "id": "Hk68VvzE1-A2"
      }
    },
    {
      "cell_type": "code",
      "source": [
        "df.dropna(subset = ['App Name','Size','Currency','Installs','Minimum Installs','Developer Id','Developer Email'], inplace = True)"
      ],
      "metadata": {
        "id": "ECiNOQra10Rv"
      },
      "execution_count": null,
      "outputs": []
    },
    {
      "cell_type": "code",
      "source": [
        "df.isnull().sum()"
      ],
      "metadata": {
        "colab": {
          "base_uri": "https://localhost:8080/"
        },
        "id": "_ZCIfmll2Cb7",
        "outputId": "37fca0d4-b454-4bc9-85c2-6ce3a202065a"
      },
      "execution_count": null,
      "outputs": [
        {
          "output_type": "execute_result",
          "data": {
            "text/plain": [
              "App Name                0\n",
              "App Id                  0\n",
              "Category                0\n",
              "Rating                107\n",
              "Rating Count          107\n",
              "Installs                0\n",
              "Minimum Installs        0\n",
              "Maximum Installs        0\n",
              "Free                    0\n",
              "Price                   0\n",
              "Currency                0\n",
              "Size                    0\n",
              "Minimum Android        36\n",
              "Developer Id            0\n",
              "Developer Website    3904\n",
              "Developer Email         0\n",
              "Released              347\n",
              "Last Updated            0\n",
              "Content Rating          0\n",
              "Privacy Policy       2173\n",
              "Ad Supported            0\n",
              "In App Purchases        0\n",
              "Editors Choice          0\n",
              "Scraped Time            0\n",
              "dtype: int64"
            ]
          },
          "metadata": {},
          "execution_count": 17
        }
      ]
    },
    {
      "cell_type": "markdown",
      "source": [
        "## Now let's start cleaning the each row"
      ],
      "metadata": {
        "id": "7zVYc00cDybe"
      }
    },
    {
      "cell_type": "markdown",
      "source": [
        "checking any duplicates in the App Name"
      ],
      "metadata": {
        "id": "BVJvJOyuDtbA"
      }
    },
    {
      "cell_type": "code",
      "source": [
        "boolean = df['App Name'].duplicated().any()\n",
        "boolean"
      ],
      "metadata": {
        "colab": {
          "base_uri": "https://localhost:8080/"
        },
        "id": "MNIWCOKcAtrM",
        "outputId": "87e02d4e-6025-4587-986f-1fae25dea72f"
      },
      "execution_count": null,
      "outputs": [
        {
          "output_type": "execute_result",
          "data": {
            "text/plain": [
              "True"
            ]
          },
          "metadata": {},
          "execution_count": 20
        }
      ]
    },
    {
      "cell_type": "code",
      "source": [
        "# Chaecking the dupilication in data\n",
        "df.duplicated().sum()"
      ],
      "metadata": {
        "colab": {
          "base_uri": "https://localhost:8080/"
        },
        "id": "MQ0BPuS7I9ZR",
        "outputId": "3af65575-0f0a-45d1-f217-b8d2f14ad7f2"
      },
      "execution_count": null,
      "outputs": [
        {
          "output_type": "execute_result",
          "data": {
            "text/plain": [
              "0"
            ]
          },
          "metadata": {},
          "execution_count": 72
        }
      ]
    },
    {
      "cell_type": "code",
      "source": [
        "df.nunique()"
      ],
      "metadata": {
        "colab": {
          "base_uri": "https://localhost:8080/"
        },
        "id": "414Zge8FJKnP",
        "outputId": "d9d4162e-7327-4b38-f782-89a28eda9958"
      },
      "execution_count": null,
      "outputs": [
        {
          "output_type": "execute_result",
          "data": {
            "text/plain": [
              "App Name             11978\n",
              "App Id               11997\n",
              "Category                48\n",
              "Rating                  42\n",
              "Rating Count          1294\n",
              "Installs                18\n",
              "Minimum Installs        18\n",
              "Maximum Installs      5779\n",
              "Price                   42\n",
              "Currency                 6\n",
              "Size                   427\n",
              "Minimum Android         27\n",
              "Developer Id         10760\n",
              "Developer Website     7459\n",
              "Developer Email      10831\n",
              "Released              2809\n",
              "Last Updated          2046\n",
              "Content Rating           3\n",
              "Privacy Policy        8765\n",
              "Ad Supported             2\n",
              "In App Purchases         2\n",
              "Editors Choice           2\n",
              "Scraped Time            13\n",
              "Type                     2\n",
              "Rating Type              1\n",
              "RatingType               3\n",
              "dtype: int64"
            ]
          },
          "metadata": {},
          "execution_count": 74
        }
      ]
    },
    {
      "cell_type": "code",
      "source": [
        "df['App Name'].value_counts()"
      ],
      "metadata": {
        "colab": {
          "base_uri": "https://localhost:8080/"
        },
        "id": "94Xes8P0D6fA",
        "outputId": "314b95bd-f6b8-4676-b484-1ec65903630c"
      },
      "execution_count": null,
      "outputs": [
        {
          "output_type": "execute_result",
          "data": {
            "text/plain": [
              "Gallery                                            3\n",
              "BMI Calculator                                     3\n",
              "Vacuum Cleaner Sound                               2\n",
              "Windmill Wallpaper                                 2\n",
              "Age Calculator                                     2\n",
              "                                                  ..\n",
              "Tagalog-Hebrew Translator                          1\n",
              "Master Canary                                      1\n",
              "La Strada Graz                                     1\n",
              "Murottal Anak Thaha Al Junayd                      1\n",
              "Pakistan Photo editor - Independence day Frames    1\n",
              "Name: App Name, Length: 11978, dtype: int64"
            ]
          },
          "metadata": {},
          "execution_count": 21
        }
      ]
    },
    {
      "cell_type": "code",
      "source": [
        "df[df['App Name'] == 'Vibook']"
      ],
      "metadata": {
        "colab": {
          "base_uri": "https://localhost:8080/",
          "height": 226
        },
        "id": "jiMTymsiFnc6",
        "outputId": "38ca2202-7154-423e-d514-7f8c376fca41"
      },
      "execution_count": null,
      "outputs": [
        {
          "output_type": "execute_result",
          "data": {
            "text/plain": [
              "  App Name                App Id      Category  Rating  Rating Count Installs  \\\n",
              "2   Vibook  com.doantiepvien.crm  Productivity     0.0           0.0      50+   \n",
              "\n",
              "   Minimum Installs  Maximum Installs  Free  Price  ... Developer Website  \\\n",
              "2              50.0                58  True    0.0  ...               NaN   \n",
              "\n",
              "       Developer Email     Released  Last Updated Content Rating  \\\n",
              "2  vnacrewit@gmail.com  Aug 9, 2019  Aug 19, 2019       Everyone   \n",
              "\n",
              "                                      Privacy Policy Ad Supported  \\\n",
              "2  https://www.vietnamairlines.com/vn/en/terms-an...        False   \n",
              "\n",
              "  In App Purchases Editors Choice      Scraped Time  \n",
              "2            False          False  15-06-2021 20:19  \n",
              "\n",
              "[1 rows x 24 columns]"
            ],
            "text/html": [
              "\n",
              "  <div id=\"df-5cdc2b40-9ffe-4913-aa44-1cd846aad9ef\">\n",
              "    <div class=\"colab-df-container\">\n",
              "      <div>\n",
              "<style scoped>\n",
              "    .dataframe tbody tr th:only-of-type {\n",
              "        vertical-align: middle;\n",
              "    }\n",
              "\n",
              "    .dataframe tbody tr th {\n",
              "        vertical-align: top;\n",
              "    }\n",
              "\n",
              "    .dataframe thead th {\n",
              "        text-align: right;\n",
              "    }\n",
              "</style>\n",
              "<table border=\"1\" class=\"dataframe\">\n",
              "  <thead>\n",
              "    <tr style=\"text-align: right;\">\n",
              "      <th></th>\n",
              "      <th>App Name</th>\n",
              "      <th>App Id</th>\n",
              "      <th>Category</th>\n",
              "      <th>Rating</th>\n",
              "      <th>Rating Count</th>\n",
              "      <th>Installs</th>\n",
              "      <th>Minimum Installs</th>\n",
              "      <th>Maximum Installs</th>\n",
              "      <th>Free</th>\n",
              "      <th>Price</th>\n",
              "      <th>...</th>\n",
              "      <th>Developer Website</th>\n",
              "      <th>Developer Email</th>\n",
              "      <th>Released</th>\n",
              "      <th>Last Updated</th>\n",
              "      <th>Content Rating</th>\n",
              "      <th>Privacy Policy</th>\n",
              "      <th>Ad Supported</th>\n",
              "      <th>In App Purchases</th>\n",
              "      <th>Editors Choice</th>\n",
              "      <th>Scraped Time</th>\n",
              "    </tr>\n",
              "  </thead>\n",
              "  <tbody>\n",
              "    <tr>\n",
              "      <th>2</th>\n",
              "      <td>Vibook</td>\n",
              "      <td>com.doantiepvien.crm</td>\n",
              "      <td>Productivity</td>\n",
              "      <td>0.0</td>\n",
              "      <td>0.0</td>\n",
              "      <td>50+</td>\n",
              "      <td>50.0</td>\n",
              "      <td>58</td>\n",
              "      <td>True</td>\n",
              "      <td>0.0</td>\n",
              "      <td>...</td>\n",
              "      <td>NaN</td>\n",
              "      <td>vnacrewit@gmail.com</td>\n",
              "      <td>Aug 9, 2019</td>\n",
              "      <td>Aug 19, 2019</td>\n",
              "      <td>Everyone</td>\n",
              "      <td>https://www.vietnamairlines.com/vn/en/terms-an...</td>\n",
              "      <td>False</td>\n",
              "      <td>False</td>\n",
              "      <td>False</td>\n",
              "      <td>15-06-2021 20:19</td>\n",
              "    </tr>\n",
              "  </tbody>\n",
              "</table>\n",
              "<p>1 rows × 24 columns</p>\n",
              "</div>\n",
              "      <button class=\"colab-df-convert\" onclick=\"convertToInteractive('df-5cdc2b40-9ffe-4913-aa44-1cd846aad9ef')\"\n",
              "              title=\"Convert this dataframe to an interactive table.\"\n",
              "              style=\"display:none;\">\n",
              "        \n",
              "  <svg xmlns=\"http://www.w3.org/2000/svg\" height=\"24px\"viewBox=\"0 0 24 24\"\n",
              "       width=\"24px\">\n",
              "    <path d=\"M0 0h24v24H0V0z\" fill=\"none\"/>\n",
              "    <path d=\"M18.56 5.44l.94 2.06.94-2.06 2.06-.94-2.06-.94-.94-2.06-.94 2.06-2.06.94zm-11 1L8.5 8.5l.94-2.06 2.06-.94-2.06-.94L8.5 2.5l-.94 2.06-2.06.94zm10 10l.94 2.06.94-2.06 2.06-.94-2.06-.94-.94-2.06-.94 2.06-2.06.94z\"/><path d=\"M17.41 7.96l-1.37-1.37c-.4-.4-.92-.59-1.43-.59-.52 0-1.04.2-1.43.59L10.3 9.45l-7.72 7.72c-.78.78-.78 2.05 0 2.83L4 21.41c.39.39.9.59 1.41.59.51 0 1.02-.2 1.41-.59l7.78-7.78 2.81-2.81c.8-.78.8-2.07 0-2.86zM5.41 20L4 18.59l7.72-7.72 1.47 1.35L5.41 20z\"/>\n",
              "  </svg>\n",
              "      </button>\n",
              "      \n",
              "  <style>\n",
              "    .colab-df-container {\n",
              "      display:flex;\n",
              "      flex-wrap:wrap;\n",
              "      gap: 12px;\n",
              "    }\n",
              "\n",
              "    .colab-df-convert {\n",
              "      background-color: #E8F0FE;\n",
              "      border: none;\n",
              "      border-radius: 50%;\n",
              "      cursor: pointer;\n",
              "      display: none;\n",
              "      fill: #1967D2;\n",
              "      height: 32px;\n",
              "      padding: 0 0 0 0;\n",
              "      width: 32px;\n",
              "    }\n",
              "\n",
              "    .colab-df-convert:hover {\n",
              "      background-color: #E2EBFA;\n",
              "      box-shadow: 0px 1px 2px rgba(60, 64, 67, 0.3), 0px 1px 3px 1px rgba(60, 64, 67, 0.15);\n",
              "      fill: #174EA6;\n",
              "    }\n",
              "\n",
              "    [theme=dark] .colab-df-convert {\n",
              "      background-color: #3B4455;\n",
              "      fill: #D2E3FC;\n",
              "    }\n",
              "\n",
              "    [theme=dark] .colab-df-convert:hover {\n",
              "      background-color: #434B5C;\n",
              "      box-shadow: 0px 1px 3px 1px rgba(0, 0, 0, 0.15);\n",
              "      filter: drop-shadow(0px 1px 2px rgba(0, 0, 0, 0.3));\n",
              "      fill: #FFFFFF;\n",
              "    }\n",
              "  </style>\n",
              "\n",
              "      <script>\n",
              "        const buttonEl =\n",
              "          document.querySelector('#df-5cdc2b40-9ffe-4913-aa44-1cd846aad9ef button.colab-df-convert');\n",
              "        buttonEl.style.display =\n",
              "          google.colab.kernel.accessAllowed ? 'block' : 'none';\n",
              "\n",
              "        async function convertToInteractive(key) {\n",
              "          const element = document.querySelector('#df-5cdc2b40-9ffe-4913-aa44-1cd846aad9ef');\n",
              "          const dataTable =\n",
              "            await google.colab.kernel.invokeFunction('convertToInteractive',\n",
              "                                                     [key], {});\n",
              "          if (!dataTable) return;\n",
              "\n",
              "          const docLinkHtml = 'Like what you see? Visit the ' +\n",
              "            '<a target=\"_blank\" href=https://colab.research.google.com/notebooks/data_table.ipynb>data table notebook</a>'\n",
              "            + ' to learn more about interactive tables.';\n",
              "          element.innerHTML = '';\n",
              "          dataTable['output_type'] = 'display_data';\n",
              "          await google.colab.output.renderOutput(dataTable, element);\n",
              "          const docLink = document.createElement('div');\n",
              "          docLink.innerHTML = docLinkHtml;\n",
              "          element.appendChild(docLink);\n",
              "        }\n",
              "      </script>\n",
              "    </div>\n",
              "  </div>\n",
              "  "
            ]
          },
          "metadata": {},
          "execution_count": 22
        }
      ]
    },
    {
      "cell_type": "code",
      "source": [
        "df['App Id'].duplicated().any()"
      ],
      "metadata": {
        "colab": {
          "base_uri": "https://localhost:8080/"
        },
        "id": "ALhr_stJGZVT",
        "outputId": "2a7f6428-3934-4d2d-9a16-7741e0c56aa0"
      },
      "execution_count": null,
      "outputs": [
        {
          "output_type": "execute_result",
          "data": {
            "text/plain": [
              "False"
            ]
          },
          "metadata": {},
          "execution_count": 23
        }
      ]
    },
    {
      "cell_type": "code",
      "source": [
        "df['App Name'].value_counts()"
      ],
      "metadata": {
        "colab": {
          "base_uri": "https://localhost:8080/"
        },
        "id": "c2WW37BhGm5A",
        "outputId": "f797ee04-7c10-4144-96da-26cd9db5ff8a"
      },
      "execution_count": null,
      "outputs": [
        {
          "output_type": "execute_result",
          "data": {
            "text/plain": [
              "Gallery                                            3\n",
              "BMI Calculator                                     3\n",
              "Vacuum Cleaner Sound                               2\n",
              "Windmill Wallpaper                                 2\n",
              "Age Calculator                                     2\n",
              "                                                  ..\n",
              "Tagalog-Hebrew Translator                          1\n",
              "Master Canary                                      1\n",
              "La Strada Graz                                     1\n",
              "Murottal Anak Thaha Al Junayd                      1\n",
              "Pakistan Photo editor - Independence day Frames    1\n",
              "Name: App Name, Length: 11978, dtype: int64"
            ]
          },
          "metadata": {},
          "execution_count": 24
        }
      ]
    },
    {
      "cell_type": "markdown",
      "source": [
        "   \n",
        "we have the Apps with the same names but with the unique App IDs so the Apps are differed based on the App IDs"
      ],
      "metadata": {
        "id": "HL736T2XIjkQ"
      }
    },
    {
      "cell_type": "markdown",
      "source": [
        "## let's Explore the numerical columns\n",
        "\n",
        "\n"
      ],
      "metadata": {
        "id": "eP_IZgdZAxOJ"
      }
    },
    {
      "cell_type": "code",
      "source": [
        "df['Installs'].unique()"
      ],
      "metadata": {
        "id": "M5Bu074XHulp",
        "colab": {
          "base_uri": "https://localhost:8080/"
        },
        "outputId": "d246c42e-f67e-4111-a13f-4d15aeaa34a5"
      },
      "execution_count": null,
      "outputs": [
        {
          "output_type": "execute_result",
          "data": {
            "text/plain": [
              "array(['10+', '5,000+', '50+', '100+', '1,000+', '500+', '50,000+',\n",
              "       '10,000+', '1+', '500,000+', '100,000+', '5+', '10,000,000+',\n",
              "       '1,000,000+', '5,000,000+', '0+', '100,000,000+', '50,000,000+'],\n",
              "      dtype=object)"
            ]
          },
          "metadata": {},
          "execution_count": 25
        }
      ]
    },
    {
      "cell_type": "code",
      "source": [
        "df['Installs'] = df['Installs'].str.split('+').str[0]"
      ],
      "metadata": {
        "id": "FWMUi8uXA2ky"
      },
      "execution_count": null,
      "outputs": []
    },
    {
      "cell_type": "code",
      "source": [
        "df['Installs'].unique()"
      ],
      "metadata": {
        "colab": {
          "base_uri": "https://localhost:8080/"
        },
        "id": "NOuPZ3SWA5pr",
        "outputId": "ab70f3c1-81d9-482e-e959-ae98408f47bd"
      },
      "execution_count": null,
      "outputs": [
        {
          "output_type": "execute_result",
          "data": {
            "text/plain": [
              "array(['10', '5,000', '50', '100', '1,000', '500', '50,000', '10,000',\n",
              "       '1', '500,000', '100,000', '5', '10,000,000', '1,000,000',\n",
              "       '5,000,000', '0', '100,000,000', '50,000,000'], dtype=object)"
            ]
          },
          "metadata": {},
          "execution_count": 27
        }
      ]
    },
    {
      "cell_type": "markdown",
      "source": [
        "replace the commas ',' in the install column"
      ],
      "metadata": {
        "id": "yRbS4V3-BADB"
      }
    },
    {
      "cell_type": "code",
      "source": [
        "df['Installs'].replace(',','', regex=True, inplace=True)"
      ],
      "metadata": {
        "id": "LISji5__A9at"
      },
      "execution_count": null,
      "outputs": []
    },
    {
      "cell_type": "code",
      "source": [
        "df['Installs'] = df['Installs'].astype(int)"
      ],
      "metadata": {
        "id": "AhxpBBmaBEJA"
      },
      "execution_count": null,
      "outputs": []
    },
    {
      "cell_type": "code",
      "source": [
        "df['Currency'].unique()"
      ],
      "metadata": {
        "colab": {
          "base_uri": "https://localhost:8080/"
        },
        "id": "mIfTluRdBHoF",
        "outputId": "20e2a52e-9f29-4de1-8160-f18982f3626c"
      },
      "execution_count": null,
      "outputs": [
        {
          "output_type": "execute_result",
          "data": {
            "text/plain": [
              "array(['USD', 'XXX', 'CAD', 'EUR', 'INR', 'VND'], dtype=object)"
            ]
          },
          "metadata": {},
          "execution_count": 30
        }
      ]
    },
    {
      "cell_type": "code",
      "source": [
        "df['Size'].unique()"
      ],
      "metadata": {
        "colab": {
          "base_uri": "https://localhost:8080/"
        },
        "id": "hIOrpX6uBK2b",
        "outputId": "6e84c613-8b23-4764-a8bd-6d3d60ee222c"
      },
      "execution_count": null,
      "outputs": [
        {
          "output_type": "execute_result",
          "data": {
            "text/plain": [
              "array(['10M', '2.9M', '3.7M', '1.8M', '6.2M', '46M', '2.5M', '16M',\n",
              "       '1.3M', '3.5M', '51M', '2.7M', '7.6M', '15M', '29M', '12M', '2.0M',\n",
              "       '70M', '11M', '24M', '1.4M', '20M', '2.4M', '25M', '21M', '36M',\n",
              "       '6.1M', '2.6M', '8.9M', '3.9M', '30M', '26M', '4.9M', '4.3M',\n",
              "       '4.8M', '4.6M', '2.8M', '38M', '5.1M', '147M', '33M', '2.2M',\n",
              "       '7.1M', '27M', '18M', '7.7M', '32M', '19M', '39M', '31M', '1.2M',\n",
              "       '3.1M', '3.2M', '42M', '22M', '4.1M', '50M', '5.5M', '127k',\n",
              "       '8.4M', '41M', '49M', '7.0M', '4.7M', '43M', '5.4M', '3.0M',\n",
              "       '1.6M', '2.1M', '37M', '3.6M', '9.0M', '9.9M', '67M', '28M',\n",
              "       'Varies with device', '7.9M', '3.3M', '6.0M', '5.7M', '9.8M',\n",
              "       '5.0M', '1.7M', '7.4M', '1.9M', '3.8M', '6.4M', '8.1M', '6.5M',\n",
              "       '4.4M', '45M', '7.2M', '13M', '6.9M', '60M', '6.6M', '4.0M', '17M',\n",
              "       '4.2M', '58M', '93M', '9.7M', '23M', '52M', '5.6M', '48M', '1.5M',\n",
              "       '8.5M', '54M', '62M', '133M', '64M', '152M', '136M', '9.5M',\n",
              "       '4.5M', '40M', '531k', '8.0M', '2.3M', '35M', '83M', '7.3M',\n",
              "       '6.7M', '9.4M', '69M', '7.5M', '343k', '84M', '5.9M', '6.3M',\n",
              "       '1,018k', '34M', '63M', '3.4M', '57M', '14M', '86M', '9.2M',\n",
              "       '142M', '6.8M', '9.1M', '9.6M', '44M', '1.0M', '886k', '53M',\n",
              "       '91M', '61M', '5.2M', '188k', '5.3M', '8.3M', '8.2M', '79M',\n",
              "       '9.3M', '47M', '107M', '8.6M', '95M', '56M', '5.8M', '71M', '78M',\n",
              "       '7.8M', '59M', '72M', '8.7M', '200k', '92k', '75M', '966k', '844k',\n",
              "       '963k', '151M', '274k', '145M', '8.8M', '82M', '10.0M', '66M',\n",
              "       '240k', '101M', '76M', '96M', '139M', '212k', '101k', '125M',\n",
              "       '111M', '1.1M', '116M', '94M', '99M', '194k', '89M', '55M', '506k',\n",
              "       '85M', '98M', '122M', '88M', '77M', '138k', '659k', '880k', '106M',\n",
              "       '87M', '230k', '97M', '989k', '453k', '201M', '28k', '562k',\n",
              "       '745k', '68M', '118M', '357k', '74M', '600k', '22k', '73M', '144M',\n",
              "       '33k', '250M', '359k', '81M', '112M', '298k', '351k', '1,007k',\n",
              "       '145k', '936k', '65M', '25k', '986k', '512k', '102M', '842k',\n",
              "       '962k', '497k', '321k', '565k', '946k', '222k', '998k', '82k',\n",
              "       '105M', '257k', '390k', '18k', '100M', '727k', '176k', '113M',\n",
              "       '531M', '120M', '229k', '141M', '130M', '92M', '90M', '150k',\n",
              "       '150M', '136k', '80M', '156M', '449k', '121M', '945k', '969k',\n",
              "       '329k', '243k', '143M', '574k', '261k', '917k', '742k', '137M',\n",
              "       '159M', '760k', '48k', '815k', '629k', '422M', '77k', '393k',\n",
              "       '895k', '813k', '149M', '266k', '134M', '786k', '687k', '251k',\n",
              "       '259k', '221k', '803k', '224k', '898k', '66k', '128M', '476k',\n",
              "       '253k', '124k', '214k', '24k', '230M', '163k', '1,019k', '228k',\n",
              "       '420k', '103M', '631k', '990k', '801k', '57k', '389k', '563k',\n",
              "       '205k', '21k', '146M', '567k', '344k', '94k', '750k', '407k',\n",
              "       '114M', '912k', '138M', '889k', '445k', '117M', '571k', '810k',\n",
              "       '318k', '50k', '805k', '110M', '130k', '743k', '158M', '894k',\n",
              "       '808k', '148M', '127M', '588k', '269k', '738k', '109M', '382k',\n",
              "       '501k', '282k', '153M', '260k', '405k', '543k', '924k', '162M',\n",
              "       '837k', '823k', '826k', '244k', '663k', '119M', '379k', '132M',\n",
              "       '595k', '234k', '165M', '104M', '761k', '872k', '143k', '528k',\n",
              "       '774k', '648k', '123k', '879k', '433k', '461k', '818k', '140M',\n",
              "       '877k', '505k', '901k', '170k', '717k', '106k', '255k', '1,014k',\n",
              "       '477k', '316k', '216k', '123M', '723k', '935k', '124M', '1,020k',\n",
              "       '173M', '293M', '273k', '256k', '866k', '174M', '918k', '647k',\n",
              "       '154k', '157M', '286k', '395k', '573k', '140k', '315k', '827k',\n",
              "       '906k', '492k', '934k', '790k', '862k', '135M', '167M', '184M',\n",
              "       '755k', '385k', '737k'], dtype=object)"
            ]
          },
          "metadata": {},
          "execution_count": 31
        }
      ]
    },
    {
      "cell_type": "markdown",
      "source": [
        "The Size of data can be in GB, MB and KB."
      ],
      "metadata": {
        "id": "POEs4RUmBT7e"
      }
    },
    {
      "cell_type": "code",
      "source": [
        "df.dtypes['Size']"
      ],
      "metadata": {
        "id": "S1nH6NnTBPRB",
        "colab": {
          "base_uri": "https://localhost:8080/"
        },
        "outputId": "96f7c852-ecec-4eab-bc7d-6d1e05891aa7"
      },
      "execution_count": null,
      "outputs": [
        {
          "output_type": "execute_result",
          "data": {
            "text/plain": [
              "dtype('O')"
            ]
          },
          "metadata": {},
          "execution_count": 32
        }
      ]
    },
    {
      "cell_type": "code",
      "source": [
        "df['Minimum Android']"
      ],
      "metadata": {
        "colab": {
          "base_uri": "https://localhost:8080/"
        },
        "id": "tCnMc6gWBYR3",
        "outputId": "bc7b1445-7712-4e0a-90e8-00e2a2620069"
      },
      "execution_count": null,
      "outputs": [
        {
          "output_type": "execute_result",
          "data": {
            "text/plain": [
              "0                7.1 and up\n",
              "1                5.0 and up\n",
              "2              4.0.3 and up\n",
              "3              4.0.3 and up\n",
              "4                4.1 and up\n",
              "                ...        \n",
              "11993            4.4 and up\n",
              "11994    Varies with device\n",
              "11995            2.2 and up\n",
              "11996            8.0 and up\n",
              "11997            4.0 and up\n",
              "Name: Minimum Android, Length: 11997, dtype: object"
            ]
          },
          "metadata": {},
          "execution_count": 33
        }
      ]
    },
    {
      "cell_type": "code",
      "source": [
        "df['Content Rating']"
      ],
      "metadata": {
        "colab": {
          "base_uri": "https://localhost:8080/"
        },
        "id": "HL1z5aTrCkWb",
        "outputId": "f9e4fce1-d69e-4cf7-c6ba-66fdf991ac25"
      },
      "execution_count": null,
      "outputs": [
        {
          "output_type": "execute_result",
          "data": {
            "text/plain": [
              "0        Everyone\n",
              "1        Everyone\n",
              "2        Everyone\n",
              "3        Everyone\n",
              "4        Everyone\n",
              "           ...   \n",
              "11993    Everyone\n",
              "11994    Everyone\n",
              "11995    Everyone\n",
              "11996    Everyone\n",
              "11997    Everyone\n",
              "Name: Content Rating, Length: 11997, dtype: object"
            ]
          },
          "metadata": {},
          "execution_count": 34
        }
      ]
    },
    {
      "cell_type": "code",
      "source": [
        "df['Released']"
      ],
      "metadata": {
        "colab": {
          "base_uri": "https://localhost:8080/"
        },
        "id": "jGb5amdyCn0i",
        "outputId": "840b8cc3-6c56-4dbb-b5e6-6a259ffd8a12"
      },
      "execution_count": null,
      "outputs": [
        {
          "output_type": "execute_result",
          "data": {
            "text/plain": [
              "0        Feb 26, 2020\n",
              "1        May 21, 2020\n",
              "2         Aug 9, 2019\n",
              "3        Sep 10, 2018\n",
              "4        Feb 21, 2020\n",
              "             ...     \n",
              "11993    Jul 26, 2010\n",
              "11994             NaN\n",
              "11995     May 9, 2014\n",
              "11996    Oct 10, 2019\n",
              "11997    Jul 27, 2017\n",
              "Name: Released, Length: 11997, dtype: object"
            ]
          },
          "metadata": {},
          "execution_count": 35
        }
      ]
    },
    {
      "cell_type": "code",
      "source": [
        "df['Last Updated']"
      ],
      "metadata": {
        "colab": {
          "base_uri": "https://localhost:8080/"
        },
        "id": "B8Seh2bzCrl9",
        "outputId": "125ac9b4-e723-4c81-c316-75fa6fb5458c"
      },
      "execution_count": null,
      "outputs": [
        {
          "output_type": "execute_result",
          "data": {
            "text/plain": [
              "0        Feb 26, 2020\n",
              "1        May 06, 2021\n",
              "2        Aug 19, 2019\n",
              "3        Oct 13, 2018\n",
              "4        Nov 12, 2018\n",
              "             ...     \n",
              "11993    Mar 09, 2021\n",
              "11994    Aug 23, 2019\n",
              "11995    May 20, 2014\n",
              "11996    Nov 09, 2019\n",
              "11997    Sep 29, 2018\n",
              "Name: Last Updated, Length: 11997, dtype: object"
            ]
          },
          "metadata": {},
          "execution_count": 36
        }
      ]
    },
    {
      "cell_type": "code",
      "source": [
        "df['Privacy Policy']"
      ],
      "metadata": {
        "colab": {
          "base_uri": "https://localhost:8080/"
        },
        "id": "WHESEVmbCv-0",
        "outputId": "8b847074-028b-4994-bbb1-8124c89d2a60"
      },
      "execution_count": null,
      "outputs": [
        {
          "output_type": "execute_result",
          "data": {
            "text/plain": [
              "0                       https://beniyizibyose.tk/projects/\n",
              "1        https://dev4phones.wordpress.com/licencia-de-uso/\n",
              "2        https://www.vietnamairlines.com/vn/en/terms-an...\n",
              "3                                                      NaN\n",
              "4                              http://www.horodyski.com.pl\n",
              "                               ...                        \n",
              "11993        http://www.aifactory.co.uk/privacy_policy.htm\n",
              "11994    http://www.spinfy.com/products/moomin-pad/priv...\n",
              "11995              http://www.appsvision.fr/privacy-policy\n",
              "11996    https://drive.google.com/file/d/1KORYzqlwi6Sfm...\n",
              "11997    https://docs.google.com/document/d/1IHbguw7oq6...\n",
              "Name: Privacy Policy, Length: 11997, dtype: object"
            ]
          },
          "metadata": {},
          "execution_count": 37
        }
      ]
    },
    {
      "cell_type": "code",
      "source": [
        "df['Scraped Time']"
      ],
      "metadata": {
        "colab": {
          "base_uri": "https://localhost:8080/"
        },
        "id": "GAE3K4L_C0kx",
        "outputId": "0f57c6c0-eaeb-4129-e3e3-57bd6d575874"
      },
      "execution_count": null,
      "outputs": [
        {
          "output_type": "execute_result",
          "data": {
            "text/plain": [
              "0        15-06-2021 20:19\n",
              "1        15-06-2021 20:19\n",
              "2        15-06-2021 20:19\n",
              "3        15-06-2021 20:19\n",
              "4        15-06-2021 20:19\n",
              "               ...       \n",
              "11993    15-06-2021 20:31\n",
              "11994    15-06-2021 20:31\n",
              "11995    15-06-2021 20:31\n",
              "11996    15-06-2021 20:31\n",
              "11997    15-06-2021 20:31\n",
              "Name: Scraped Time, Length: 11997, dtype: object"
            ]
          },
          "metadata": {},
          "execution_count": 38
        }
      ]
    },
    {
      "cell_type": "markdown",
      "source": [
        "Creataing the column type for free and paid Apps by using the Free column, it's helpfull while dealing with the paid and Free Apps"
      ],
      "metadata": {
        "id": "0hitolsCDW7p"
      }
    },
    {
      "cell_type": "code",
      "source": [
        "df['Type'] = np.where(df['Free'] == True,'Free','Paid')\n",
        "df.drop(['Free'],axis=1, inplace= True )"
      ],
      "metadata": {
        "id": "hBk9o7kODd3J"
      },
      "execution_count": null,
      "outputs": []
    },
    {
      "cell_type": "markdown",
      "source": [
        "let's clean the Content Rating column"
      ],
      "metadata": {
        "id": "1eNHQayDEHQn"
      }
    },
    {
      "cell_type": "code",
      "source": [
        "df['Content Rating'].unique()"
      ],
      "metadata": {
        "colab": {
          "base_uri": "https://localhost:8080/"
        },
        "id": "VcKimMQODhGs",
        "outputId": "8edba172-3931-4aa7-afe5-e37f7e30bdc4"
      },
      "execution_count": null,
      "outputs": [
        {
          "output_type": "execute_result",
          "data": {
            "text/plain": [
              "array(['Everyone', 'Teen', 'Mature 17+', 'Everyone 10+',\n",
              "       'Adults only 18+'], dtype=object)"
            ]
          },
          "metadata": {},
          "execution_count": 40
        }
      ]
    },
    {
      "cell_type": "code",
      "source": [
        "df['Content Rating'].value_counts()"
      ],
      "metadata": {
        "colab": {
          "base_uri": "https://localhost:8080/"
        },
        "id": "nB-qNGSUEKcD",
        "outputId": "93b17ab6-0069-4c04-ba7c-5be760349299"
      },
      "execution_count": null,
      "outputs": [
        {
          "output_type": "execute_result",
          "data": {
            "text/plain": [
              "Everyone           10472\n",
              "Teen                1035\n",
              "Mature 17+           324\n",
              "Everyone 10+         165\n",
              "Adults only 18+        1\n",
              "Name: Content Rating, dtype: int64"
            ]
          },
          "metadata": {},
          "execution_count": 41
        }
      ]
    },
    {
      "cell_type": "markdown",
      "source": [
        "## Observation :     \n",
        "1. we have varies Categories in the content Rating column :    \n",
        "   * Everyone\n",
        "   * Teen\n",
        "   * Mature 17+\n",
        "   * Everyone 10+\n",
        "   * Unrated\n",
        "   * Adults only 18+             \n",
        "\n",
        "Now, we makes this Categories to a simple 3 Categories for better understanding :     \n",
        "   Everyone, Teen, Adults\n",
        "    \n",
        "   * Mature 17+   ----> to Adults\n",
        "   * Everyone 10+ ----> to Teen\n",
        "   * Unrated      ----> to Everyone\n",
        "   * Adults only 18+ -> to Adults "
      ],
      "metadata": {
        "id": "wgsbxWQuERdW"
      }
    },
    {
      "cell_type": "code",
      "source": [
        "df[\"Content Rating\"]=df[\"Content Rating\"].replace(\"Unrated\",\"Everyone\")\n",
        "df[\"Content Rating\"]=df[\"Content Rating\"].replace(\"Everyone 10+\",\"Teen\")\n",
        "df[\"Content Rating\"]=df[\"Content Rating\"].replace(\"Mature 17+\",\"Adults\")\n",
        "df[\"Content Rating\"]=df[\"Content Rating\"].replace(\"Adults only 18+\",\"Adults\")"
      ],
      "metadata": {
        "id": "wEKxaU6CEOVS"
      },
      "execution_count": null,
      "outputs": []
    },
    {
      "cell_type": "code",
      "source": [
        "df['Content Rating'].unique()"
      ],
      "metadata": {
        "colab": {
          "base_uri": "https://localhost:8080/"
        },
        "id": "YL53TH7qxNBG",
        "outputId": "4e8fd43a-f43c-4cee-8ddd-be9ed196364f"
      },
      "execution_count": null,
      "outputs": [
        {
          "output_type": "execute_result",
          "data": {
            "text/plain": [
              "array(['Everyone', 'Teen', 'Adults'], dtype=object)"
            ]
          },
          "metadata": {},
          "execution_count": 43
        }
      ]
    },
    {
      "cell_type": "code",
      "source": [
        "df.info()"
      ],
      "metadata": {
        "colab": {
          "base_uri": "https://localhost:8080/"
        },
        "id": "5nyYqDh0xPbe",
        "outputId": "089de5c2-7127-46f8-f833-ced5fc862fb3"
      },
      "execution_count": null,
      "outputs": [
        {
          "output_type": "stream",
          "name": "stdout",
          "text": [
            "<class 'pandas.core.frame.DataFrame'>\n",
            "Int64Index: 11997 entries, 0 to 11997\n",
            "Data columns (total 24 columns):\n",
            " #   Column             Non-Null Count  Dtype  \n",
            "---  ------             --------------  -----  \n",
            " 0   App Name           11997 non-null  object \n",
            " 1   App Id             11997 non-null  object \n",
            " 2   Category           11997 non-null  object \n",
            " 3   Rating             11890 non-null  float64\n",
            " 4   Rating Count       11890 non-null  float64\n",
            " 5   Installs           11997 non-null  int64  \n",
            " 6   Minimum Installs   11997 non-null  float64\n",
            " 7   Maximum Installs   11997 non-null  int64  \n",
            " 8   Price              11997 non-null  float64\n",
            " 9   Currency           11997 non-null  object \n",
            " 10  Size               11997 non-null  object \n",
            " 11  Minimum Android    11961 non-null  object \n",
            " 12  Developer Id       11997 non-null  object \n",
            " 13  Developer Website  8093 non-null   object \n",
            " 14  Developer Email    11997 non-null  object \n",
            " 15  Released           11650 non-null  object \n",
            " 16  Last Updated       11997 non-null  object \n",
            " 17  Content Rating     11997 non-null  object \n",
            " 18  Privacy Policy     9824 non-null   object \n",
            " 19  Ad Supported       11997 non-null  bool   \n",
            " 20  In App Purchases   11997 non-null  bool   \n",
            " 21  Editors Choice     11997 non-null  bool   \n",
            " 22  Scraped Time       11997 non-null  object \n",
            " 23  Type               11997 non-null  object \n",
            "dtypes: bool(3), float64(4), int64(2), object(15)\n",
            "memory usage: 2.0+ MB\n"
          ]
        }
      ]
    },
    {
      "cell_type": "code",
      "source": [
        "df['Rating'].unique()"
      ],
      "metadata": {
        "colab": {
          "base_uri": "https://localhost:8080/"
        },
        "id": "dpn3kgfcxjqL",
        "outputId": "2bda96f9-eccd-40f5-c004-adc3f550f0e2"
      },
      "execution_count": null,
      "outputs": [
        {
          "output_type": "execute_result",
          "data": {
            "text/plain": [
              "array([0. , 4.4, 5. , 4.5, 2. , 4.7, 4.9, 3.9, 3.7, 4.2, 3.4, 3.8, 4.6,\n",
              "       4.1, 2.5, 2.3, 2.1, 2.7, 4.3, 3.1, 4.8, 3.3, 4. , 2.4, 3.2, 3.6,\n",
              "       2.6, nan, 1.5, 3.5, 2.9, 1.3, 2.8, 3. , 2.2, 1.8, 1.4, 1.2, 1.9,\n",
              "       1.7, 1.6, 1. , 1.1])"
            ]
          },
          "metadata": {},
          "execution_count": 45
        }
      ]
    },
    {
      "cell_type": "code",
      "source": [
        "df['Rating Count'].unique()"
      ],
      "metadata": {
        "colab": {
          "base_uri": "https://localhost:8080/"
        },
        "id": "j_Q9xdk5xlD6",
        "outputId": "b5485c77-362c-4152-9300-cab3c88977b0"
      },
      "execution_count": null,
      "outputs": [
        {
          "output_type": "execute_result",
          "data": {
            "text/plain": [
              "array([0.00000e+00, 6.40000e+01, 5.00000e+00, ..., 4.94800e+03,\n",
              "       3.55900e+03, 3.51673e+05])"
            ]
          },
          "metadata": {},
          "execution_count": 46
        }
      ]
    },
    {
      "cell_type": "markdown",
      "source": [
        "let's change the Rating Count to certain ranges for the better understanding the data"
      ],
      "metadata": {
        "id": "rXKL4FiJxqXR"
      }
    },
    {
      "cell_type": "code",
      "source": [
        "df['Rating Count'].max()"
      ],
      "metadata": {
        "colab": {
          "base_uri": "https://localhost:8080/"
        },
        "id": "RbHjSoSixn0S",
        "outputId": "2b5fb536-db89-4443-d2c3-3dadddcafacc"
      },
      "execution_count": null,
      "outputs": [
        {
          "output_type": "execute_result",
          "data": {
            "text/plain": [
              "1264773.0"
            ]
          },
          "metadata": {},
          "execution_count": 47
        }
      ]
    },
    {
      "cell_type": "code",
      "source": [
        "df['Rating Type'] = 'NoRatingProvided'\n",
        "df.loc[(df['Rating Count'] > 0) & (df['Rating Count'] <= 10000.0),'RatingType'] = 'Less than 10K'\n",
        "df.loc[(df['Rating Count'] > 10000) & (df['Rating Count'] <= 500000.0),'RatingType'] = 'Between 10K and 500K'\n",
        "df.loc[(df['Rating Count'] > 500000) & (df['Rating Count'] <= 138557570.0),'RatingType'] = 'More than 500K'\n",
        "df.RatingType.value_counts()"
      ],
      "metadata": {
        "colab": {
          "base_uri": "https://localhost:8080/"
        },
        "id": "-xHmyGKJxtJL",
        "outputId": "75f3294a-a286-4b70-826e-812a76849e62"
      },
      "execution_count": null,
      "outputs": [
        {
          "output_type": "execute_result",
          "data": {
            "text/plain": [
              "Less than 10K           6233\n",
              "Between 10K and 500K     177\n",
              "More than 500K             7\n",
              "Name: RatingType, dtype: int64"
            ]
          },
          "metadata": {},
          "execution_count": 48
        }
      ]
    },
    {
      "cell_type": "code",
      "source": [
        "df.info()"
      ],
      "metadata": {
        "colab": {
          "base_uri": "https://localhost:8080/"
        },
        "id": "LgEOdFEMxxJq",
        "outputId": "df7194f7-d8ad-431e-9054-83c97aa946d3"
      },
      "execution_count": null,
      "outputs": [
        {
          "output_type": "stream",
          "name": "stdout",
          "text": [
            "<class 'pandas.core.frame.DataFrame'>\n",
            "Int64Index: 11997 entries, 0 to 11997\n",
            "Data columns (total 26 columns):\n",
            " #   Column             Non-Null Count  Dtype  \n",
            "---  ------             --------------  -----  \n",
            " 0   App Name           11997 non-null  object \n",
            " 1   App Id             11997 non-null  object \n",
            " 2   Category           11997 non-null  object \n",
            " 3   Rating             11890 non-null  float64\n",
            " 4   Rating Count       11890 non-null  float64\n",
            " 5   Installs           11997 non-null  int64  \n",
            " 6   Minimum Installs   11997 non-null  float64\n",
            " 7   Maximum Installs   11997 non-null  int64  \n",
            " 8   Price              11997 non-null  float64\n",
            " 9   Currency           11997 non-null  object \n",
            " 10  Size               11997 non-null  object \n",
            " 11  Minimum Android    11961 non-null  object \n",
            " 12  Developer Id       11997 non-null  object \n",
            " 13  Developer Website  8093 non-null   object \n",
            " 14  Developer Email    11997 non-null  object \n",
            " 15  Released           11650 non-null  object \n",
            " 16  Last Updated       11997 non-null  object \n",
            " 17  Content Rating     11997 non-null  object \n",
            " 18  Privacy Policy     9824 non-null   object \n",
            " 19  Ad Supported       11997 non-null  bool   \n",
            " 20  In App Purchases   11997 non-null  bool   \n",
            " 21  Editors Choice     11997 non-null  bool   \n",
            " 22  Scraped Time       11997 non-null  object \n",
            " 23  Type               11997 non-null  object \n",
            " 24  Rating Type        11997 non-null  object \n",
            " 25  RatingType         6417 non-null   object \n",
            "dtypes: bool(3), float64(4), int64(2), object(17)\n",
            "memory usage: 2.2+ MB\n"
          ]
        }
      ]
    },
    {
      "cell_type": "markdown",
      "source": [
        "### The top 10 Categories that are installed from the Google Play Store "
      ],
      "metadata": {
        "id": "ItUtnEB3z3lV"
      }
    },
    {
      "cell_type": "code",
      "source": [
        "df['Category'].unique()"
      ],
      "metadata": {
        "colab": {
          "base_uri": "https://localhost:8080/"
        },
        "id": "etkENZtUzxlX",
        "outputId": "5b73e894-497f-41aa-9fc6-c360ab8f79dc"
      },
      "execution_count": null,
      "outputs": [
        {
          "output_type": "execute_result",
          "data": {
            "text/plain": [
              "array(['Adventure', 'Tools', 'Productivity', 'Communication', 'Social',\n",
              "       'Libraries & Demo', 'Lifestyle', 'Personalization', 'Racing',\n",
              "       'Maps & Navigation', 'Travel & Local', 'Food & Drink',\n",
              "       'Books & Reference', 'Medical', 'Puzzle', 'Entertainment',\n",
              "       'Arcade', 'Auto & Vehicles', 'Photography', 'Health & Fitness',\n",
              "       'Education', 'Shopping', 'Board', 'Music & Audio', 'Sports',\n",
              "       'Beauty', 'Business', 'Educational', 'Finance', 'News & Magazines',\n",
              "       'Casual', 'Art & Design', 'House & Home', 'Card', 'Events',\n",
              "       'Trivia', 'Weather', 'Strategy', 'Word', 'Video Players & Editors',\n",
              "       'Action', 'Simulation', 'Music', 'Dating', 'Role Playing',\n",
              "       'Casino', 'Comics', 'Parenting'], dtype=object)"
            ]
          },
          "metadata": {},
          "execution_count": 18
        }
      ]
    },
    {
      "cell_type": "code",
      "source": [
        "top_Category = df.Category.value_counts().reset_index().rename(columns={'Category':'Count','index':'Category'})"
      ],
      "metadata": {
        "id": "vJ4_C_ljx4WS"
      },
      "execution_count": null,
      "outputs": []
    },
    {
      "cell_type": "code",
      "source": [
        "top_Category"
      ],
      "metadata": {
        "colab": {
          "base_uri": "https://localhost:8080/",
          "height": 1000
        },
        "id": "HHmWWZ950JeT",
        "outputId": "5faf2260-12e1-4273-c82f-7a64e2e19fb1"
      },
      "execution_count": null,
      "outputs": [
        {
          "output_type": "execute_result",
          "data": {
            "text/plain": [
              "                   Category  Count\n",
              "0                 Education   1241\n",
              "1             Music & Audio    847\n",
              "2                     Tools    744\n",
              "3             Entertainment    730\n",
              "4                  Business    723\n",
              "5         Books & Reference    601\n",
              "6                 Lifestyle    588\n",
              "7           Personalization    465\n",
              "8              Productivity    456\n",
              "9          Health & Fitness    433\n",
              "10                 Shopping    408\n",
              "11             Food & Drink    401\n",
              "12           Travel & Local    353\n",
              "13                  Finance    338\n",
              "14                   Casual    272\n",
              "15                   Sports    257\n",
              "16                   Arcade    253\n",
              "17                   Puzzle    241\n",
              "18                   Social    239\n",
              "19            Communication    220\n",
              "20         News & Magazines    213\n",
              "21              Photography    179\n",
              "22                  Medical    175\n",
              "23        Maps & Navigation    157\n",
              "24                   Action    131\n",
              "25                Adventure    114\n",
              "26              Educational    111\n",
              "27               Simulation    105\n",
              "28             Art & Design     92\n",
              "29          Auto & Vehicles     91\n",
              "30             House & Home     85\n",
              "31  Video Players & Editors     78\n",
              "32                   Events     68\n",
              "33                   Beauty     62\n",
              "34                   Racing     57\n",
              "35                 Strategy     53\n",
              "36             Role Playing     52\n",
              "37                    Board     50\n",
              "38                   Trivia     46\n",
              "39         Libraries & Demo     40\n",
              "40                     Word     38\n",
              "41                   Dating     37\n",
              "42                    Music     36\n",
              "43                     Card     33\n",
              "44                  Weather     31\n",
              "45                Parenting     21\n",
              "46                   Casino     17\n",
              "47                   Comics     15"
            ],
            "text/html": [
              "\n",
              "  <div id=\"df-656e0ccf-389f-4546-9b93-24cf32b7f6c0\">\n",
              "    <div class=\"colab-df-container\">\n",
              "      <div>\n",
              "<style scoped>\n",
              "    .dataframe tbody tr th:only-of-type {\n",
              "        vertical-align: middle;\n",
              "    }\n",
              "\n",
              "    .dataframe tbody tr th {\n",
              "        vertical-align: top;\n",
              "    }\n",
              "\n",
              "    .dataframe thead th {\n",
              "        text-align: right;\n",
              "    }\n",
              "</style>\n",
              "<table border=\"1\" class=\"dataframe\">\n",
              "  <thead>\n",
              "    <tr style=\"text-align: right;\">\n",
              "      <th></th>\n",
              "      <th>Category</th>\n",
              "      <th>Count</th>\n",
              "    </tr>\n",
              "  </thead>\n",
              "  <tbody>\n",
              "    <tr>\n",
              "      <th>0</th>\n",
              "      <td>Education</td>\n",
              "      <td>1241</td>\n",
              "    </tr>\n",
              "    <tr>\n",
              "      <th>1</th>\n",
              "      <td>Music &amp; Audio</td>\n",
              "      <td>847</td>\n",
              "    </tr>\n",
              "    <tr>\n",
              "      <th>2</th>\n",
              "      <td>Tools</td>\n",
              "      <td>744</td>\n",
              "    </tr>\n",
              "    <tr>\n",
              "      <th>3</th>\n",
              "      <td>Entertainment</td>\n",
              "      <td>730</td>\n",
              "    </tr>\n",
              "    <tr>\n",
              "      <th>4</th>\n",
              "      <td>Business</td>\n",
              "      <td>723</td>\n",
              "    </tr>\n",
              "    <tr>\n",
              "      <th>5</th>\n",
              "      <td>Books &amp; Reference</td>\n",
              "      <td>601</td>\n",
              "    </tr>\n",
              "    <tr>\n",
              "      <th>6</th>\n",
              "      <td>Lifestyle</td>\n",
              "      <td>588</td>\n",
              "    </tr>\n",
              "    <tr>\n",
              "      <th>7</th>\n",
              "      <td>Personalization</td>\n",
              "      <td>465</td>\n",
              "    </tr>\n",
              "    <tr>\n",
              "      <th>8</th>\n",
              "      <td>Productivity</td>\n",
              "      <td>456</td>\n",
              "    </tr>\n",
              "    <tr>\n",
              "      <th>9</th>\n",
              "      <td>Health &amp; Fitness</td>\n",
              "      <td>433</td>\n",
              "    </tr>\n",
              "    <tr>\n",
              "      <th>10</th>\n",
              "      <td>Shopping</td>\n",
              "      <td>408</td>\n",
              "    </tr>\n",
              "    <tr>\n",
              "      <th>11</th>\n",
              "      <td>Food &amp; Drink</td>\n",
              "      <td>401</td>\n",
              "    </tr>\n",
              "    <tr>\n",
              "      <th>12</th>\n",
              "      <td>Travel &amp; Local</td>\n",
              "      <td>353</td>\n",
              "    </tr>\n",
              "    <tr>\n",
              "      <th>13</th>\n",
              "      <td>Finance</td>\n",
              "      <td>338</td>\n",
              "    </tr>\n",
              "    <tr>\n",
              "      <th>14</th>\n",
              "      <td>Casual</td>\n",
              "      <td>272</td>\n",
              "    </tr>\n",
              "    <tr>\n",
              "      <th>15</th>\n",
              "      <td>Sports</td>\n",
              "      <td>257</td>\n",
              "    </tr>\n",
              "    <tr>\n",
              "      <th>16</th>\n",
              "      <td>Arcade</td>\n",
              "      <td>253</td>\n",
              "    </tr>\n",
              "    <tr>\n",
              "      <th>17</th>\n",
              "      <td>Puzzle</td>\n",
              "      <td>241</td>\n",
              "    </tr>\n",
              "    <tr>\n",
              "      <th>18</th>\n",
              "      <td>Social</td>\n",
              "      <td>239</td>\n",
              "    </tr>\n",
              "    <tr>\n",
              "      <th>19</th>\n",
              "      <td>Communication</td>\n",
              "      <td>220</td>\n",
              "    </tr>\n",
              "    <tr>\n",
              "      <th>20</th>\n",
              "      <td>News &amp; Magazines</td>\n",
              "      <td>213</td>\n",
              "    </tr>\n",
              "    <tr>\n",
              "      <th>21</th>\n",
              "      <td>Photography</td>\n",
              "      <td>179</td>\n",
              "    </tr>\n",
              "    <tr>\n",
              "      <th>22</th>\n",
              "      <td>Medical</td>\n",
              "      <td>175</td>\n",
              "    </tr>\n",
              "    <tr>\n",
              "      <th>23</th>\n",
              "      <td>Maps &amp; Navigation</td>\n",
              "      <td>157</td>\n",
              "    </tr>\n",
              "    <tr>\n",
              "      <th>24</th>\n",
              "      <td>Action</td>\n",
              "      <td>131</td>\n",
              "    </tr>\n",
              "    <tr>\n",
              "      <th>25</th>\n",
              "      <td>Adventure</td>\n",
              "      <td>114</td>\n",
              "    </tr>\n",
              "    <tr>\n",
              "      <th>26</th>\n",
              "      <td>Educational</td>\n",
              "      <td>111</td>\n",
              "    </tr>\n",
              "    <tr>\n",
              "      <th>27</th>\n",
              "      <td>Simulation</td>\n",
              "      <td>105</td>\n",
              "    </tr>\n",
              "    <tr>\n",
              "      <th>28</th>\n",
              "      <td>Art &amp; Design</td>\n",
              "      <td>92</td>\n",
              "    </tr>\n",
              "    <tr>\n",
              "      <th>29</th>\n",
              "      <td>Auto &amp; Vehicles</td>\n",
              "      <td>91</td>\n",
              "    </tr>\n",
              "    <tr>\n",
              "      <th>30</th>\n",
              "      <td>House &amp; Home</td>\n",
              "      <td>85</td>\n",
              "    </tr>\n",
              "    <tr>\n",
              "      <th>31</th>\n",
              "      <td>Video Players &amp; Editors</td>\n",
              "      <td>78</td>\n",
              "    </tr>\n",
              "    <tr>\n",
              "      <th>32</th>\n",
              "      <td>Events</td>\n",
              "      <td>68</td>\n",
              "    </tr>\n",
              "    <tr>\n",
              "      <th>33</th>\n",
              "      <td>Beauty</td>\n",
              "      <td>62</td>\n",
              "    </tr>\n",
              "    <tr>\n",
              "      <th>34</th>\n",
              "      <td>Racing</td>\n",
              "      <td>57</td>\n",
              "    </tr>\n",
              "    <tr>\n",
              "      <th>35</th>\n",
              "      <td>Strategy</td>\n",
              "      <td>53</td>\n",
              "    </tr>\n",
              "    <tr>\n",
              "      <th>36</th>\n",
              "      <td>Role Playing</td>\n",
              "      <td>52</td>\n",
              "    </tr>\n",
              "    <tr>\n",
              "      <th>37</th>\n",
              "      <td>Board</td>\n",
              "      <td>50</td>\n",
              "    </tr>\n",
              "    <tr>\n",
              "      <th>38</th>\n",
              "      <td>Trivia</td>\n",
              "      <td>46</td>\n",
              "    </tr>\n",
              "    <tr>\n",
              "      <th>39</th>\n",
              "      <td>Libraries &amp; Demo</td>\n",
              "      <td>40</td>\n",
              "    </tr>\n",
              "    <tr>\n",
              "      <th>40</th>\n",
              "      <td>Word</td>\n",
              "      <td>38</td>\n",
              "    </tr>\n",
              "    <tr>\n",
              "      <th>41</th>\n",
              "      <td>Dating</td>\n",
              "      <td>37</td>\n",
              "    </tr>\n",
              "    <tr>\n",
              "      <th>42</th>\n",
              "      <td>Music</td>\n",
              "      <td>36</td>\n",
              "    </tr>\n",
              "    <tr>\n",
              "      <th>43</th>\n",
              "      <td>Card</td>\n",
              "      <td>33</td>\n",
              "    </tr>\n",
              "    <tr>\n",
              "      <th>44</th>\n",
              "      <td>Weather</td>\n",
              "      <td>31</td>\n",
              "    </tr>\n",
              "    <tr>\n",
              "      <th>45</th>\n",
              "      <td>Parenting</td>\n",
              "      <td>21</td>\n",
              "    </tr>\n",
              "    <tr>\n",
              "      <th>46</th>\n",
              "      <td>Casino</td>\n",
              "      <td>17</td>\n",
              "    </tr>\n",
              "    <tr>\n",
              "      <th>47</th>\n",
              "      <td>Comics</td>\n",
              "      <td>15</td>\n",
              "    </tr>\n",
              "  </tbody>\n",
              "</table>\n",
              "</div>\n",
              "      <button class=\"colab-df-convert\" onclick=\"convertToInteractive('df-656e0ccf-389f-4546-9b93-24cf32b7f6c0')\"\n",
              "              title=\"Convert this dataframe to an interactive table.\"\n",
              "              style=\"display:none;\">\n",
              "        \n",
              "  <svg xmlns=\"http://www.w3.org/2000/svg\" height=\"24px\"viewBox=\"0 0 24 24\"\n",
              "       width=\"24px\">\n",
              "    <path d=\"M0 0h24v24H0V0z\" fill=\"none\"/>\n",
              "    <path d=\"M18.56 5.44l.94 2.06.94-2.06 2.06-.94-2.06-.94-.94-2.06-.94 2.06-2.06.94zm-11 1L8.5 8.5l.94-2.06 2.06-.94-2.06-.94L8.5 2.5l-.94 2.06-2.06.94zm10 10l.94 2.06.94-2.06 2.06-.94-2.06-.94-.94-2.06-.94 2.06-2.06.94z\"/><path d=\"M17.41 7.96l-1.37-1.37c-.4-.4-.92-.59-1.43-.59-.52 0-1.04.2-1.43.59L10.3 9.45l-7.72 7.72c-.78.78-.78 2.05 0 2.83L4 21.41c.39.39.9.59 1.41.59.51 0 1.02-.2 1.41-.59l7.78-7.78 2.81-2.81c.8-.78.8-2.07 0-2.86zM5.41 20L4 18.59l7.72-7.72 1.47 1.35L5.41 20z\"/>\n",
              "  </svg>\n",
              "      </button>\n",
              "      \n",
              "  <style>\n",
              "    .colab-df-container {\n",
              "      display:flex;\n",
              "      flex-wrap:wrap;\n",
              "      gap: 12px;\n",
              "    }\n",
              "\n",
              "    .colab-df-convert {\n",
              "      background-color: #E8F0FE;\n",
              "      border: none;\n",
              "      border-radius: 50%;\n",
              "      cursor: pointer;\n",
              "      display: none;\n",
              "      fill: #1967D2;\n",
              "      height: 32px;\n",
              "      padding: 0 0 0 0;\n",
              "      width: 32px;\n",
              "    }\n",
              "\n",
              "    .colab-df-convert:hover {\n",
              "      background-color: #E2EBFA;\n",
              "      box-shadow: 0px 1px 2px rgba(60, 64, 67, 0.3), 0px 1px 3px 1px rgba(60, 64, 67, 0.15);\n",
              "      fill: #174EA6;\n",
              "    }\n",
              "\n",
              "    [theme=dark] .colab-df-convert {\n",
              "      background-color: #3B4455;\n",
              "      fill: #D2E3FC;\n",
              "    }\n",
              "\n",
              "    [theme=dark] .colab-df-convert:hover {\n",
              "      background-color: #434B5C;\n",
              "      box-shadow: 0px 1px 3px 1px rgba(0, 0, 0, 0.15);\n",
              "      filter: drop-shadow(0px 1px 2px rgba(0, 0, 0, 0.3));\n",
              "      fill: #FFFFFF;\n",
              "    }\n",
              "  </style>\n",
              "\n",
              "      <script>\n",
              "        const buttonEl =\n",
              "          document.querySelector('#df-656e0ccf-389f-4546-9b93-24cf32b7f6c0 button.colab-df-convert');\n",
              "        buttonEl.style.display =\n",
              "          google.colab.kernel.accessAllowed ? 'block' : 'none';\n",
              "\n",
              "        async function convertToInteractive(key) {\n",
              "          const element = document.querySelector('#df-656e0ccf-389f-4546-9b93-24cf32b7f6c0');\n",
              "          const dataTable =\n",
              "            await google.colab.kernel.invokeFunction('convertToInteractive',\n",
              "                                                     [key], {});\n",
              "          if (!dataTable) return;\n",
              "\n",
              "          const docLinkHtml = 'Like what you see? Visit the ' +\n",
              "            '<a target=\"_blank\" href=https://colab.research.google.com/notebooks/data_table.ipynb>data table notebook</a>'\n",
              "            + ' to learn more about interactive tables.';\n",
              "          element.innerHTML = '';\n",
              "          dataTable['output_type'] = 'display_data';\n",
              "          await google.colab.output.renderOutput(dataTable, element);\n",
              "          const docLink = document.createElement('div');\n",
              "          docLink.innerHTML = docLinkHtml;\n",
              "          element.appendChild(docLink);\n",
              "        }\n",
              "      </script>\n",
              "    </div>\n",
              "  </div>\n",
              "  "
            ]
          },
          "metadata": {},
          "execution_count": 20
        }
      ]
    },
    {
      "cell_type": "code",
      "source": [
        "Category_installs = df.groupby(['Category'])[['Installs']].sum()"
      ],
      "metadata": {
        "id": "oMWvPyqd0Pys"
      },
      "execution_count": null,
      "outputs": []
    },
    {
      "cell_type": "code",
      "source": [
        "Category_installs"
      ],
      "metadata": {
        "colab": {
          "base_uri": "https://localhost:8080/",
          "height": 1000
        },
        "id": "2Qo8vQjS0Szb",
        "outputId": "036b030c-b028-452a-9ee5-758a8f01dc47"
      },
      "execution_count": null,
      "outputs": [
        {
          "output_type": "execute_result",
          "data": {
            "text/plain": [
              "                                                                  Installs\n",
              "Category                                                                  \n",
              "Action                   100+50+500+50,000+100+10+1,000+5,000+100,000+1...\n",
              "Adventure                10+1,000+100+500+1,000+100,000+5,000+10+100+1,...\n",
              "Arcade                   100+1,000+1,000+50+5,000+1,000+1,000+100+1,000...\n",
              "Art & Design             500+10+50,000+50,000+10,000+100+10+1+1,000+10+...\n",
              "Auto & Vehicles          1,000+500+50+1,000+500+50+10+1,000+1,000+1,000...\n",
              "Beauty                   500+50+100,000+100+100+5+50+10,000+10,000+10+1...\n",
              "Board                    10+50,000+10,000+50+10,000+500,000+5,000+100+1...\n",
              "Books & Reference        1+1,000+10,000+100,000+500+100,000+1,000+100+5...\n",
              "Business                 10+100+100+10+10+1+1,000+100+10+100+500+10+10,...\n",
              "Card                     500,000+10,000+500,000+1,000+10,000+1,000,000+...\n",
              "Casino                   500+1,000+100,000+100,000+1,000,000+5,000+10,0...\n",
              "Casual                   100+1,000+10+10+10+500+10+10,000+1,000+50,000+...\n",
              "Comics                   50,000+10+100+10+100+100+50+1,000+100+100,000+...\n",
              "Communication            10+10+10+100+50+100+10,000+50+100+50+100,000+1...\n",
              "Dating                   100+10,000+500+1,000,000+1+100+10+10,000+1,000...\n",
              "Education                100+100+10+100+100+100+1,000+1,000+100+100+100...\n",
              "Educational              50+5+10+100+1,000+10+10,000+10+50+500+10,000+1...\n",
              "Entertainment            500,000+100+10+5+100+10+5,000+500+10,000+100+5...\n",
              "Events                   100+100+10+100+50+100+100+1,000+5,000+10+1,000...\n",
              "Finance                  5,000+10,000+1,000+1,000+100+50+10,000+10+10+5...\n",
              "Food & Drink             1,000+1,000+100+100+1,000+100+5+10+50+100+100+...\n",
              "Health & Fitness         10,000+1+10+1,000+1,000+10+10+10+10,000+100+5+...\n",
              "House & Home             50,000+10+500+1,000+50+5,000+100+1,000+10+10+1...\n",
              "Libraries & Demo         1,000+100+5,000+5+5,000+1+10+100+100+10+100+5,...\n",
              "Lifestyle                500+10,000+100+10,000+10+1,000+100+1,000,000+1...\n",
              "Maps & Navigation        100+100+1,000+50,000+100,000+100+10+500+5,000,...\n",
              "Medical                  10+100+100,000+500+1,000+1+10+100+1,000+50+1+1...\n",
              "Music                    500+10+100+500,000+100,000+1,000+500+500,000+1...\n",
              "Music & Audio            100+500+5+1,000+1+10+500+100+10,000+1,000+1+10...\n",
              "News & Magazines         10,000+10+100+50,000+10,000+500+1,000+1,000+5,...\n",
              "Parenting                500+1,000+5,000+100+100+500+10+100+100+100+5,0...\n",
              "Personalization          50,000+100+500+10,000+500+50,000+5,000+10,000+...\n",
              "Photography              5,000+1+100,000+1,000,000+5,000+1,000+1,000,00...\n",
              "Productivity             50+10+100+50+1,000,000+100+1,000+10+100+1,000+...\n",
              "Puzzle                   10,000+500+500+10+5+500+100+10+10,000+10+100+1...\n",
              "Racing                   100+10,000,000+100,000+10+10+10,000+100,000+10...\n",
              "Role Playing             50+100,000+100,000+1,000+100+100+50+500,000+10...\n",
              "Shopping                 1,000+500+1,000+1+10+100,000+1,000+10+100+50+5...\n",
              "Simulation               1,000+5,000+10,000+10,000+50,000+1,000,000+50,...\n",
              "Social                   50+100+50+500+1,000+10+100+1,000+100,000+500+1...\n",
              "Sports                   100,000+5+100,000+50+100+100+10,000+500+500+50...\n",
              "Strategy                 1,000+50+1,000+100+100,000+1,000,000+500+100,0...\n",
              "Tools                    5,000+100+50+10,000+50,000+1,000+10,000+1,000+...\n",
              "Travel & Local           10,000+10,000+500+10,000+10,000+1+1,000+10,000...\n",
              "Trivia                   10+10+50+1,000+10,000+50,000+5,000+10+10+50,00...\n",
              "Video Players & Editors  50,000+5,000+100,000+50+5,000+100+10,000+100,0...\n",
              "Weather                  50,000+500,000+1,000+500,000+50+10,000+50,000+...\n",
              "Word                     100,000+10,000+50,000+1,000+5,000,000+500+1,00..."
            ],
            "text/html": [
              "\n",
              "  <div id=\"df-f7e47e28-2444-440f-af4c-8e26c7ce07b4\">\n",
              "    <div class=\"colab-df-container\">\n",
              "      <div>\n",
              "<style scoped>\n",
              "    .dataframe tbody tr th:only-of-type {\n",
              "        vertical-align: middle;\n",
              "    }\n",
              "\n",
              "    .dataframe tbody tr th {\n",
              "        vertical-align: top;\n",
              "    }\n",
              "\n",
              "    .dataframe thead th {\n",
              "        text-align: right;\n",
              "    }\n",
              "</style>\n",
              "<table border=\"1\" class=\"dataframe\">\n",
              "  <thead>\n",
              "    <tr style=\"text-align: right;\">\n",
              "      <th></th>\n",
              "      <th>Installs</th>\n",
              "    </tr>\n",
              "    <tr>\n",
              "      <th>Category</th>\n",
              "      <th></th>\n",
              "    </tr>\n",
              "  </thead>\n",
              "  <tbody>\n",
              "    <tr>\n",
              "      <th>Action</th>\n",
              "      <td>100+50+500+50,000+100+10+1,000+5,000+100,000+1...</td>\n",
              "    </tr>\n",
              "    <tr>\n",
              "      <th>Adventure</th>\n",
              "      <td>10+1,000+100+500+1,000+100,000+5,000+10+100+1,...</td>\n",
              "    </tr>\n",
              "    <tr>\n",
              "      <th>Arcade</th>\n",
              "      <td>100+1,000+1,000+50+5,000+1,000+1,000+100+1,000...</td>\n",
              "    </tr>\n",
              "    <tr>\n",
              "      <th>Art &amp; Design</th>\n",
              "      <td>500+10+50,000+50,000+10,000+100+10+1+1,000+10+...</td>\n",
              "    </tr>\n",
              "    <tr>\n",
              "      <th>Auto &amp; Vehicles</th>\n",
              "      <td>1,000+500+50+1,000+500+50+10+1,000+1,000+1,000...</td>\n",
              "    </tr>\n",
              "    <tr>\n",
              "      <th>Beauty</th>\n",
              "      <td>500+50+100,000+100+100+5+50+10,000+10,000+10+1...</td>\n",
              "    </tr>\n",
              "    <tr>\n",
              "      <th>Board</th>\n",
              "      <td>10+50,000+10,000+50+10,000+500,000+5,000+100+1...</td>\n",
              "    </tr>\n",
              "    <tr>\n",
              "      <th>Books &amp; Reference</th>\n",
              "      <td>1+1,000+10,000+100,000+500+100,000+1,000+100+5...</td>\n",
              "    </tr>\n",
              "    <tr>\n",
              "      <th>Business</th>\n",
              "      <td>10+100+100+10+10+1+1,000+100+10+100+500+10+10,...</td>\n",
              "    </tr>\n",
              "    <tr>\n",
              "      <th>Card</th>\n",
              "      <td>500,000+10,000+500,000+1,000+10,000+1,000,000+...</td>\n",
              "    </tr>\n",
              "    <tr>\n",
              "      <th>Casino</th>\n",
              "      <td>500+1,000+100,000+100,000+1,000,000+5,000+10,0...</td>\n",
              "    </tr>\n",
              "    <tr>\n",
              "      <th>Casual</th>\n",
              "      <td>100+1,000+10+10+10+500+10+10,000+1,000+50,000+...</td>\n",
              "    </tr>\n",
              "    <tr>\n",
              "      <th>Comics</th>\n",
              "      <td>50,000+10+100+10+100+100+50+1,000+100+100,000+...</td>\n",
              "    </tr>\n",
              "    <tr>\n",
              "      <th>Communication</th>\n",
              "      <td>10+10+10+100+50+100+10,000+50+100+50+100,000+1...</td>\n",
              "    </tr>\n",
              "    <tr>\n",
              "      <th>Dating</th>\n",
              "      <td>100+10,000+500+1,000,000+1+100+10+10,000+1,000...</td>\n",
              "    </tr>\n",
              "    <tr>\n",
              "      <th>Education</th>\n",
              "      <td>100+100+10+100+100+100+1,000+1,000+100+100+100...</td>\n",
              "    </tr>\n",
              "    <tr>\n",
              "      <th>Educational</th>\n",
              "      <td>50+5+10+100+1,000+10+10,000+10+50+500+10,000+1...</td>\n",
              "    </tr>\n",
              "    <tr>\n",
              "      <th>Entertainment</th>\n",
              "      <td>500,000+100+10+5+100+10+5,000+500+10,000+100+5...</td>\n",
              "    </tr>\n",
              "    <tr>\n",
              "      <th>Events</th>\n",
              "      <td>100+100+10+100+50+100+100+1,000+5,000+10+1,000...</td>\n",
              "    </tr>\n",
              "    <tr>\n",
              "      <th>Finance</th>\n",
              "      <td>5,000+10,000+1,000+1,000+100+50+10,000+10+10+5...</td>\n",
              "    </tr>\n",
              "    <tr>\n",
              "      <th>Food &amp; Drink</th>\n",
              "      <td>1,000+1,000+100+100+1,000+100+5+10+50+100+100+...</td>\n",
              "    </tr>\n",
              "    <tr>\n",
              "      <th>Health &amp; Fitness</th>\n",
              "      <td>10,000+1+10+1,000+1,000+10+10+10+10,000+100+5+...</td>\n",
              "    </tr>\n",
              "    <tr>\n",
              "      <th>House &amp; Home</th>\n",
              "      <td>50,000+10+500+1,000+50+5,000+100+1,000+10+10+1...</td>\n",
              "    </tr>\n",
              "    <tr>\n",
              "      <th>Libraries &amp; Demo</th>\n",
              "      <td>1,000+100+5,000+5+5,000+1+10+100+100+10+100+5,...</td>\n",
              "    </tr>\n",
              "    <tr>\n",
              "      <th>Lifestyle</th>\n",
              "      <td>500+10,000+100+10,000+10+1,000+100+1,000,000+1...</td>\n",
              "    </tr>\n",
              "    <tr>\n",
              "      <th>Maps &amp; Navigation</th>\n",
              "      <td>100+100+1,000+50,000+100,000+100+10+500+5,000,...</td>\n",
              "    </tr>\n",
              "    <tr>\n",
              "      <th>Medical</th>\n",
              "      <td>10+100+100,000+500+1,000+1+10+100+1,000+50+1+1...</td>\n",
              "    </tr>\n",
              "    <tr>\n",
              "      <th>Music</th>\n",
              "      <td>500+10+100+500,000+100,000+1,000+500+500,000+1...</td>\n",
              "    </tr>\n",
              "    <tr>\n",
              "      <th>Music &amp; Audio</th>\n",
              "      <td>100+500+5+1,000+1+10+500+100+10,000+1,000+1+10...</td>\n",
              "    </tr>\n",
              "    <tr>\n",
              "      <th>News &amp; Magazines</th>\n",
              "      <td>10,000+10+100+50,000+10,000+500+1,000+1,000+5,...</td>\n",
              "    </tr>\n",
              "    <tr>\n",
              "      <th>Parenting</th>\n",
              "      <td>500+1,000+5,000+100+100+500+10+100+100+100+5,0...</td>\n",
              "    </tr>\n",
              "    <tr>\n",
              "      <th>Personalization</th>\n",
              "      <td>50,000+100+500+10,000+500+50,000+5,000+10,000+...</td>\n",
              "    </tr>\n",
              "    <tr>\n",
              "      <th>Photography</th>\n",
              "      <td>5,000+1+100,000+1,000,000+5,000+1,000+1,000,00...</td>\n",
              "    </tr>\n",
              "    <tr>\n",
              "      <th>Productivity</th>\n",
              "      <td>50+10+100+50+1,000,000+100+1,000+10+100+1,000+...</td>\n",
              "    </tr>\n",
              "    <tr>\n",
              "      <th>Puzzle</th>\n",
              "      <td>10,000+500+500+10+5+500+100+10+10,000+10+100+1...</td>\n",
              "    </tr>\n",
              "    <tr>\n",
              "      <th>Racing</th>\n",
              "      <td>100+10,000,000+100,000+10+10+10,000+100,000+10...</td>\n",
              "    </tr>\n",
              "    <tr>\n",
              "      <th>Role Playing</th>\n",
              "      <td>50+100,000+100,000+1,000+100+100+50+500,000+10...</td>\n",
              "    </tr>\n",
              "    <tr>\n",
              "      <th>Shopping</th>\n",
              "      <td>1,000+500+1,000+1+10+100,000+1,000+10+100+50+5...</td>\n",
              "    </tr>\n",
              "    <tr>\n",
              "      <th>Simulation</th>\n",
              "      <td>1,000+5,000+10,000+10,000+50,000+1,000,000+50,...</td>\n",
              "    </tr>\n",
              "    <tr>\n",
              "      <th>Social</th>\n",
              "      <td>50+100+50+500+1,000+10+100+1,000+100,000+500+1...</td>\n",
              "    </tr>\n",
              "    <tr>\n",
              "      <th>Sports</th>\n",
              "      <td>100,000+5+100,000+50+100+100+10,000+500+500+50...</td>\n",
              "    </tr>\n",
              "    <tr>\n",
              "      <th>Strategy</th>\n",
              "      <td>1,000+50+1,000+100+100,000+1,000,000+500+100,0...</td>\n",
              "    </tr>\n",
              "    <tr>\n",
              "      <th>Tools</th>\n",
              "      <td>5,000+100+50+10,000+50,000+1,000+10,000+1,000+...</td>\n",
              "    </tr>\n",
              "    <tr>\n",
              "      <th>Travel &amp; Local</th>\n",
              "      <td>10,000+10,000+500+10,000+10,000+1+1,000+10,000...</td>\n",
              "    </tr>\n",
              "    <tr>\n",
              "      <th>Trivia</th>\n",
              "      <td>10+10+50+1,000+10,000+50,000+5,000+10+10+50,00...</td>\n",
              "    </tr>\n",
              "    <tr>\n",
              "      <th>Video Players &amp; Editors</th>\n",
              "      <td>50,000+5,000+100,000+50+5,000+100+10,000+100,0...</td>\n",
              "    </tr>\n",
              "    <tr>\n",
              "      <th>Weather</th>\n",
              "      <td>50,000+500,000+1,000+500,000+50+10,000+50,000+...</td>\n",
              "    </tr>\n",
              "    <tr>\n",
              "      <th>Word</th>\n",
              "      <td>100,000+10,000+50,000+1,000+5,000,000+500+1,00...</td>\n",
              "    </tr>\n",
              "  </tbody>\n",
              "</table>\n",
              "</div>\n",
              "      <button class=\"colab-df-convert\" onclick=\"convertToInteractive('df-f7e47e28-2444-440f-af4c-8e26c7ce07b4')\"\n",
              "              title=\"Convert this dataframe to an interactive table.\"\n",
              "              style=\"display:none;\">\n",
              "        \n",
              "  <svg xmlns=\"http://www.w3.org/2000/svg\" height=\"24px\"viewBox=\"0 0 24 24\"\n",
              "       width=\"24px\">\n",
              "    <path d=\"M0 0h24v24H0V0z\" fill=\"none\"/>\n",
              "    <path d=\"M18.56 5.44l.94 2.06.94-2.06 2.06-.94-2.06-.94-.94-2.06-.94 2.06-2.06.94zm-11 1L8.5 8.5l.94-2.06 2.06-.94-2.06-.94L8.5 2.5l-.94 2.06-2.06.94zm10 10l.94 2.06.94-2.06 2.06-.94-2.06-.94-.94-2.06-.94 2.06-2.06.94z\"/><path d=\"M17.41 7.96l-1.37-1.37c-.4-.4-.92-.59-1.43-.59-.52 0-1.04.2-1.43.59L10.3 9.45l-7.72 7.72c-.78.78-.78 2.05 0 2.83L4 21.41c.39.39.9.59 1.41.59.51 0 1.02-.2 1.41-.59l7.78-7.78 2.81-2.81c.8-.78.8-2.07 0-2.86zM5.41 20L4 18.59l7.72-7.72 1.47 1.35L5.41 20z\"/>\n",
              "  </svg>\n",
              "      </button>\n",
              "      \n",
              "  <style>\n",
              "    .colab-df-container {\n",
              "      display:flex;\n",
              "      flex-wrap:wrap;\n",
              "      gap: 12px;\n",
              "    }\n",
              "\n",
              "    .colab-df-convert {\n",
              "      background-color: #E8F0FE;\n",
              "      border: none;\n",
              "      border-radius: 50%;\n",
              "      cursor: pointer;\n",
              "      display: none;\n",
              "      fill: #1967D2;\n",
              "      height: 32px;\n",
              "      padding: 0 0 0 0;\n",
              "      width: 32px;\n",
              "    }\n",
              "\n",
              "    .colab-df-convert:hover {\n",
              "      background-color: #E2EBFA;\n",
              "      box-shadow: 0px 1px 2px rgba(60, 64, 67, 0.3), 0px 1px 3px 1px rgba(60, 64, 67, 0.15);\n",
              "      fill: #174EA6;\n",
              "    }\n",
              "\n",
              "    [theme=dark] .colab-df-convert {\n",
              "      background-color: #3B4455;\n",
              "      fill: #D2E3FC;\n",
              "    }\n",
              "\n",
              "    [theme=dark] .colab-df-convert:hover {\n",
              "      background-color: #434B5C;\n",
              "      box-shadow: 0px 1px 3px 1px rgba(0, 0, 0, 0.15);\n",
              "      filter: drop-shadow(0px 1px 2px rgba(0, 0, 0, 0.3));\n",
              "      fill: #FFFFFF;\n",
              "    }\n",
              "  </style>\n",
              "\n",
              "      <script>\n",
              "        const buttonEl =\n",
              "          document.querySelector('#df-f7e47e28-2444-440f-af4c-8e26c7ce07b4 button.colab-df-convert');\n",
              "        buttonEl.style.display =\n",
              "          google.colab.kernel.accessAllowed ? 'block' : 'none';\n",
              "\n",
              "        async function convertToInteractive(key) {\n",
              "          const element = document.querySelector('#df-f7e47e28-2444-440f-af4c-8e26c7ce07b4');\n",
              "          const dataTable =\n",
              "            await google.colab.kernel.invokeFunction('convertToInteractive',\n",
              "                                                     [key], {});\n",
              "          if (!dataTable) return;\n",
              "\n",
              "          const docLinkHtml = 'Like what you see? Visit the ' +\n",
              "            '<a target=\"_blank\" href=https://colab.research.google.com/notebooks/data_table.ipynb>data table notebook</a>'\n",
              "            + ' to learn more about interactive tables.';\n",
              "          element.innerHTML = '';\n",
              "          dataTable['output_type'] = 'display_data';\n",
              "          await google.colab.output.renderOutput(dataTable, element);\n",
              "          const docLink = document.createElement('div');\n",
              "          docLink.innerHTML = docLinkHtml;\n",
              "          element.appendChild(docLink);\n",
              "        }\n",
              "      </script>\n",
              "    </div>\n",
              "  </div>\n",
              "  "
            ]
          },
          "metadata": {},
          "execution_count": 22
        }
      ]
    },
    {
      "cell_type": "code",
      "source": [
        "top_Category_installs = pd.merge(top_Category, Category_installs, on='Category')\n",
        "top_Category_installs.head(5)"
      ],
      "metadata": {
        "colab": {
          "base_uri": "https://localhost:8080/",
          "height": 206
        },
        "id": "hRjG0As00Xjd",
        "outputId": "dc394d7c-5bfc-4523-a6e3-1aee05c27186"
      },
      "execution_count": null,
      "outputs": [
        {
          "output_type": "execute_result",
          "data": {
            "text/plain": [
              "        Category  Count                                           Installs\n",
              "0      Education   1241  100+100+10+100+100+100+1,000+1,000+100+100+100...\n",
              "1  Music & Audio    847  100+500+5+1,000+1+10+500+100+10,000+1,000+1+10...\n",
              "2          Tools    744  5,000+100+50+10,000+50,000+1,000+10,000+1,000+...\n",
              "3  Entertainment    730  500,000+100+10+5+100+10+5,000+500+10,000+100+5...\n",
              "4       Business    723  10+100+100+10+10+1+1,000+100+10+100+500+10+10,..."
            ],
            "text/html": [
              "\n",
              "  <div id=\"df-f54421c4-4d00-4c78-b34c-9b9cae0a1907\">\n",
              "    <div class=\"colab-df-container\">\n",
              "      <div>\n",
              "<style scoped>\n",
              "    .dataframe tbody tr th:only-of-type {\n",
              "        vertical-align: middle;\n",
              "    }\n",
              "\n",
              "    .dataframe tbody tr th {\n",
              "        vertical-align: top;\n",
              "    }\n",
              "\n",
              "    .dataframe thead th {\n",
              "        text-align: right;\n",
              "    }\n",
              "</style>\n",
              "<table border=\"1\" class=\"dataframe\">\n",
              "  <thead>\n",
              "    <tr style=\"text-align: right;\">\n",
              "      <th></th>\n",
              "      <th>Category</th>\n",
              "      <th>Count</th>\n",
              "      <th>Installs</th>\n",
              "    </tr>\n",
              "  </thead>\n",
              "  <tbody>\n",
              "    <tr>\n",
              "      <th>0</th>\n",
              "      <td>Education</td>\n",
              "      <td>1241</td>\n",
              "      <td>100+100+10+100+100+100+1,000+1,000+100+100+100...</td>\n",
              "    </tr>\n",
              "    <tr>\n",
              "      <th>1</th>\n",
              "      <td>Music &amp; Audio</td>\n",
              "      <td>847</td>\n",
              "      <td>100+500+5+1,000+1+10+500+100+10,000+1,000+1+10...</td>\n",
              "    </tr>\n",
              "    <tr>\n",
              "      <th>2</th>\n",
              "      <td>Tools</td>\n",
              "      <td>744</td>\n",
              "      <td>5,000+100+50+10,000+50,000+1,000+10,000+1,000+...</td>\n",
              "    </tr>\n",
              "    <tr>\n",
              "      <th>3</th>\n",
              "      <td>Entertainment</td>\n",
              "      <td>730</td>\n",
              "      <td>500,000+100+10+5+100+10+5,000+500+10,000+100+5...</td>\n",
              "    </tr>\n",
              "    <tr>\n",
              "      <th>4</th>\n",
              "      <td>Business</td>\n",
              "      <td>723</td>\n",
              "      <td>10+100+100+10+10+1+1,000+100+10+100+500+10+10,...</td>\n",
              "    </tr>\n",
              "  </tbody>\n",
              "</table>\n",
              "</div>\n",
              "      <button class=\"colab-df-convert\" onclick=\"convertToInteractive('df-f54421c4-4d00-4c78-b34c-9b9cae0a1907')\"\n",
              "              title=\"Convert this dataframe to an interactive table.\"\n",
              "              style=\"display:none;\">\n",
              "        \n",
              "  <svg xmlns=\"http://www.w3.org/2000/svg\" height=\"24px\"viewBox=\"0 0 24 24\"\n",
              "       width=\"24px\">\n",
              "    <path d=\"M0 0h24v24H0V0z\" fill=\"none\"/>\n",
              "    <path d=\"M18.56 5.44l.94 2.06.94-2.06 2.06-.94-2.06-.94-.94-2.06-.94 2.06-2.06.94zm-11 1L8.5 8.5l.94-2.06 2.06-.94-2.06-.94L8.5 2.5l-.94 2.06-2.06.94zm10 10l.94 2.06.94-2.06 2.06-.94-2.06-.94-.94-2.06-.94 2.06-2.06.94z\"/><path d=\"M17.41 7.96l-1.37-1.37c-.4-.4-.92-.59-1.43-.59-.52 0-1.04.2-1.43.59L10.3 9.45l-7.72 7.72c-.78.78-.78 2.05 0 2.83L4 21.41c.39.39.9.59 1.41.59.51 0 1.02-.2 1.41-.59l7.78-7.78 2.81-2.81c.8-.78.8-2.07 0-2.86zM5.41 20L4 18.59l7.72-7.72 1.47 1.35L5.41 20z\"/>\n",
              "  </svg>\n",
              "      </button>\n",
              "      \n",
              "  <style>\n",
              "    .colab-df-container {\n",
              "      display:flex;\n",
              "      flex-wrap:wrap;\n",
              "      gap: 12px;\n",
              "    }\n",
              "\n",
              "    .colab-df-convert {\n",
              "      background-color: #E8F0FE;\n",
              "      border: none;\n",
              "      border-radius: 50%;\n",
              "      cursor: pointer;\n",
              "      display: none;\n",
              "      fill: #1967D2;\n",
              "      height: 32px;\n",
              "      padding: 0 0 0 0;\n",
              "      width: 32px;\n",
              "    }\n",
              "\n",
              "    .colab-df-convert:hover {\n",
              "      background-color: #E2EBFA;\n",
              "      box-shadow: 0px 1px 2px rgba(60, 64, 67, 0.3), 0px 1px 3px 1px rgba(60, 64, 67, 0.15);\n",
              "      fill: #174EA6;\n",
              "    }\n",
              "\n",
              "    [theme=dark] .colab-df-convert {\n",
              "      background-color: #3B4455;\n",
              "      fill: #D2E3FC;\n",
              "    }\n",
              "\n",
              "    [theme=dark] .colab-df-convert:hover {\n",
              "      background-color: #434B5C;\n",
              "      box-shadow: 0px 1px 3px 1px rgba(0, 0, 0, 0.15);\n",
              "      filter: drop-shadow(0px 1px 2px rgba(0, 0, 0, 0.3));\n",
              "      fill: #FFFFFF;\n",
              "    }\n",
              "  </style>\n",
              "\n",
              "      <script>\n",
              "        const buttonEl =\n",
              "          document.querySelector('#df-f54421c4-4d00-4c78-b34c-9b9cae0a1907 button.colab-df-convert');\n",
              "        buttonEl.style.display =\n",
              "          google.colab.kernel.accessAllowed ? 'block' : 'none';\n",
              "\n",
              "        async function convertToInteractive(key) {\n",
              "          const element = document.querySelector('#df-f54421c4-4d00-4c78-b34c-9b9cae0a1907');\n",
              "          const dataTable =\n",
              "            await google.colab.kernel.invokeFunction('convertToInteractive',\n",
              "                                                     [key], {});\n",
              "          if (!dataTable) return;\n",
              "\n",
              "          const docLinkHtml = 'Like what you see? Visit the ' +\n",
              "            '<a target=\"_blank\" href=https://colab.research.google.com/notebooks/data_table.ipynb>data table notebook</a>'\n",
              "            + ' to learn more about interactive tables.';\n",
              "          element.innerHTML = '';\n",
              "          dataTable['output_type'] = 'display_data';\n",
              "          await google.colab.output.renderOutput(dataTable, element);\n",
              "          const docLink = document.createElement('div');\n",
              "          docLink.innerHTML = docLinkHtml;\n",
              "          element.appendChild(docLink);\n",
              "        }\n",
              "      </script>\n",
              "    </div>\n",
              "  </div>\n",
              "  "
            ]
          },
          "metadata": {},
          "execution_count": 23
        }
      ]
    },
    {
      "cell_type": "code",
      "source": [
        "top_10_Categories_installs = top_Category_installs.head(10).sort_values(by = ['Installs'],ascending = False)"
      ],
      "metadata": {
        "id": "HSADP3M20ybT"
      },
      "execution_count": null,
      "outputs": []
    },
    {
      "cell_type": "code",
      "source": [
        "plt.figure(figsize=(14,7))\n",
        "plt.xticks(rotation=60)\n",
        "plt.xlabel(\"Category\")\n",
        "plt.ylabel(\"Number of applications\")\n",
        "plt.title(\"Top 10 Installed Categories\")\n",
        "sns.barplot(top_10_Categories_installs.Category, top_10_Categories_installs.Installs)"
      ],
      "metadata": {
        "colab": {
          "base_uri": "https://localhost:8080/",
          "height": 622
        },
        "id": "LcOetcca02P0",
        "outputId": "3945eafe-1f2a-4f29-9179-1c9f2f0b2292"
      },
      "execution_count": null,
      "outputs": [
        {
          "output_type": "stream",
          "name": "stderr",
          "text": [
            "/usr/local/lib/python3.8/dist-packages/seaborn/_decorators.py:36: FutureWarning: Pass the following variables as keyword args: x, y. From version 0.12, the only valid positional argument will be `data`, and passing other arguments without an explicit keyword will result in an error or misinterpretation.\n",
            "  warnings.warn(\n"
          ]
        },
        {
          "output_type": "execute_result",
          "data": {
            "text/plain": [
              "<matplotlib.axes._subplots.AxesSubplot at 0x7efe88a95eb0>"
            ]
          },
          "metadata": {},
          "execution_count": 57
        },
        {
          "output_type": "display_data",
          "data": {
            "text/plain": [
              "<Figure size 1008x504 with 1 Axes>"
            ],
            "image/png": "[encoded data removed]"
          },
          "metadata": {}
        }
      ]
    },
    {
      "cell_type": "markdown",
      "source": [
        "###Ans - Tools, Education, Entertainment,Personalization ,Music & Audio, Lifestyle,Health & Fitness, Productivity , Books & Regerence and Business "
      ],
      "metadata": {
        "id": "V7u2vX7qT3_z"
      }
    },
    {
      "cell_type": "markdown",
      "source": [
        "###Categories that are getting installed the most in top 10 Categories"
      ],
      "metadata": {
        "id": "3ufJe1od1A4B"
      }
    },
    {
      "cell_type": "code",
      "source": [
        "plt.figure(figsize=(14,7))\n",
        "plt.xticks(rotation=60)\n",
        "plt.xlabel(\"Category\")\n",
        "plt.ylabel(\"Number of applications\")\n",
        "plt.title(\"Top 10 Categories\")\n",
        "sns.barplot(top_10_Categories_installs.Category, top_10_Categories_installs.Count)"
      ],
      "metadata": {
        "colab": {
          "base_uri": "https://localhost:8080/",
          "height": 622
        },
        "id": "cbQOd8c10_cx",
        "outputId": "0315e058-ea9a-4a10-9e27-a99833eaa47e"
      },
      "execution_count": null,
      "outputs": [
        {
          "output_type": "stream",
          "name": "stderr",
          "text": [
            "/usr/local/lib/python3.8/dist-packages/seaborn/_decorators.py:36: FutureWarning: Pass the following variables as keyword args: x, y. From version 0.12, the only valid positional argument will be `data`, and passing other arguments without an explicit keyword will result in an error or misinterpretation.\n",
            "  warnings.warn(\n"
          ]
        },
        {
          "output_type": "execute_result",
          "data": {
            "text/plain": [
              "<matplotlib.axes._subplots.AxesSubplot at 0x7efe88ab9820>"
            ]
          },
          "metadata": {},
          "execution_count": 58
        },
        {
          "output_type": "display_data",
          "data": {
            "text/plain": [
              "<Figure size 1008x504 with 1 Axes>"
            ],
            "image/png": "[encoded data removed]"
          },
          "metadata": {}
        }
      ]
    },
    {
      "cell_type": "markdown",
      "source": [
        "###Ans - Tools, Education, Entertainment,Personalization,Music & Audio, Lifestyle,Health & Fitness, Productivity , Books & Regerence and Business "
      ],
      "metadata": {
        "id": "nTkxXoyLUXO5"
      }
    },
    {
      "cell_type": "markdown",
      "source": [
        "## Observation :\n",
        "As we can see from the above two plots: Maxinum number of apps present in google play store comes under Education, Music & Audio etc., Categories but as per the installation scenario it is different. Maximum installed apps comes under Tools, Education, Entertainment and Personalization etc.,"
      ],
      "metadata": {
        "id": "x3cphOVyUoJi"
      }
    },
    {
      "cell_type": "markdown",
      "source": [
        "## visualize Total Categories and the count of Apps in each catgeroy "
      ],
      "metadata": {
        "id": "0nX0cS1z6rjb"
      }
    },
    {
      "cell_type": "code",
      "source": [
        "plt.figure(figsize=(14,7))\n",
        "plt.xticks(rotation=90)\n",
        "plt.xlabel(\"Category\")\n",
        "plt.ylabel(\"Number of applications\")\n",
        "plt.title(\"Total Categories and count of Applications in each category \")\n",
        "sns.barplot(top_Category_installs.Category, top_Category_installs.Count)"
      ],
      "metadata": {
        "colab": {
          "base_uri": "https://localhost:8080/",
          "height": 655
        },
        "id": "bWWWMXwJ6v72",
        "outputId": "6ab0b424-9d62-4f55-fd42-3c8b8601c69e"
      },
      "execution_count": null,
      "outputs": [
        {
          "output_type": "stream",
          "name": "stderr",
          "text": [
            "/usr/local/lib/python3.8/dist-packages/seaborn/_decorators.py:36: FutureWarning: Pass the following variables as keyword args: x, y. From version 0.12, the only valid positional argument will be `data`, and passing other arguments without an explicit keyword will result in an error or misinterpretation.\n",
            "  warnings.warn(\n"
          ]
        },
        {
          "output_type": "execute_result",
          "data": {
            "text/plain": [
              "<matplotlib.axes._subplots.AxesSubplot at 0x7efe85d63700>"
            ]
          },
          "metadata": {},
          "execution_count": 59
        },
        {
          "output_type": "display_data",
          "data": {
            "text/plain": [
              "<Figure size 1008x504 with 1 Axes>"
            ],
            "image/png": "[encoded data removed]"
          },
          "metadata": {}
        }
      ]
    },
    {
      "cell_type": "markdown",
      "source": [
        "## Visualize Total Categories and installed Applications in each category"
      ],
      "metadata": {
        "id": "OGWeTP-u68aS"
      }
    },
    {
      "cell_type": "code",
      "source": [
        "plt.figure(figsize=(18,7))\n",
        "plt.xticks(rotation=90)\n",
        "plt.xlabel(\"Category\")\n",
        "plt.ylabel(\"Number of applications\")\n",
        "plt.title(\"Total Categories and Installation of Applications in each category \")\n",
        "sns.barplot(top_Category_installs.Category, top_Category_installs.Installs)"
      ],
      "metadata": {
        "colab": {
          "base_uri": "https://localhost:8080/",
          "height": 655
        },
        "id": "YgohOiIK6_a6",
        "outputId": "dbb56921-a96c-4426-f416-4001b902f5ab"
      },
      "execution_count": null,
      "outputs": [
        {
          "output_type": "stream",
          "name": "stderr",
          "text": [
            "/usr/local/lib/python3.8/dist-packages/seaborn/_decorators.py:36: FutureWarning: Pass the following variables as keyword args: x, y. From version 0.12, the only valid positional argument will be `data`, and passing other arguments without an explicit keyword will result in an error or misinterpretation.\n",
            "  warnings.warn(\n"
          ]
        },
        {
          "output_type": "execute_result",
          "data": {
            "text/plain": [
              "<matplotlib.axes._subplots.AxesSubplot at 0x7efe85cd1430>"
            ]
          },
          "metadata": {},
          "execution_count": 60
        },
        {
          "output_type": "display_data",
          "data": {
            "text/plain": [
              "<Figure size 1296x504 with 1 Axes>"
            ],
            "image/png": "[encoded data removed]"
          },
          "metadata": {}
        }
      ]
    },
    {
      "cell_type": "markdown",
      "source": [
        "Rating distribution"
      ],
      "metadata": {
        "id": "6qH2Hf7v7Uey"
      }
    },
    {
      "cell_type": "code",
      "source": [
        "plt.figure(figsize=(14,7))\n",
        "g = sns.kdeplot(df.Rating, color=\"Blue\", shade = True)\n",
        "g.set_xlabel(\"Rating\")\n",
        "g.set_ylabel(\"Frequency\")\n",
        "plt.title('Distribution of Rating',size = 20)"
      ],
      "metadata": {
        "colab": {
          "base_uri": "https://localhost:8080/",
          "height": 486
        },
        "id": "VUoikfyv7W_r",
        "outputId": "4547929f-15aa-49e2-c259-55f726b5ff93"
      },
      "execution_count": null,
      "outputs": [
        {
          "output_type": "execute_result",
          "data": {
            "text/plain": [
              "Text(0.5, 1.0, 'Distribution of Rating')"
            ]
          },
          "metadata": {},
          "execution_count": 61
        },
        {
          "output_type": "display_data",
          "data": {
            "text/plain": [
              "<Figure size 1008x504 with 1 Axes>"
            ],
            "image/png": "[encoded data removed]"
          },
          "metadata": {}
        }
      ]
    },
    {
      "cell_type": "code",
      "source": [
        "plt.title(\"Rating\")\n",
        "sns.histplot(df.Rating,kde=True,bins=5)"
      ],
      "metadata": {
        "colab": {
          "base_uri": "https://localhost:8080/",
          "height": 427
        },
        "id": "uL9azQBT8VoH",
        "outputId": "885ba30f-c5df-4b8b-a44e-a15711d05caf"
      },
      "execution_count": null,
      "outputs": [
        {
          "output_type": "execute_result",
          "data": {
            "text/plain": [
              "<matplotlib.axes._subplots.AxesSubplot at 0x7efe842fed00>"
            ]
          },
          "metadata": {},
          "execution_count": 62
        },
        {
          "output_type": "display_data",
          "data": {
            "text/plain": [
              "<Figure size 1440x432 with 1 Axes>"
            ],
            "image/png": "[encoded data removed]"
          },
          "metadata": {}
        }
      ]
    },
    {
      "cell_type": "markdown",
      "source": [
        "## Observation : \n",
        "From the above two plots we can see that most people does not give a rating,But one more thing that comes out from this graph as well is that people tend to give 4+ rating the most."
      ],
      "metadata": {
        "id": "-4AktMqZDMcS"
      }
    },
    {
      "cell_type": "markdown",
      "source": [
        "##The higest rated Category are-"
      ],
      "metadata": {
        "id": "9UZnneXx8efu"
      }
    },
    {
      "cell_type": "code",
      "source": [
        "plt.figure(figsize=(14,7))\n",
        "plt.xticks(rotation=90)\n",
        "plt.xlabel(\"Highest Rated Category\")\n",
        "plt.ylabel(\"Number of applications\")\n",
        "plt.title(\"All Categories Rating \")\n",
        "sns.barplot(df.Category, df.Rating)"
      ],
      "metadata": {
        "colab": {
          "base_uri": "https://localhost:8080/",
          "height": 637
        },
        "id": "4US7kWJ38jjH",
        "outputId": "6301fbd1-328c-4d06-bf85-b64e61fcb370"
      },
      "execution_count": null,
      "outputs": [
        {
          "output_type": "stream",
          "name": "stderr",
          "text": [
            "/usr/local/lib/python3.8/dist-packages/seaborn/_decorators.py:36: FutureWarning: Pass the following variables as keyword args: x, y. From version 0.12, the only valid positional argument will be `data`, and passing other arguments without an explicit keyword will result in an error or misinterpretation.\n",
            "  warnings.warn(\n"
          ]
        },
        {
          "output_type": "execute_result",
          "data": {
            "text/plain": [
              "<matplotlib.axes._subplots.AxesSubplot at 0x7f83f75a1580>"
            ]
          },
          "metadata": {},
          "execution_count": 66
        },
        {
          "output_type": "display_data",
          "data": {
            "text/plain": [
              "<Figure size 1008x504 with 1 Axes>"
            ],
            "image/png": "[encoded data removed]"
          },
          "metadata": {
            "needs_background": "light"
          }
        }
      ]
    },
    {
      "cell_type": "markdown",
      "source": [
        "## Ans - From the above plot we can see that Simulation is the highest Rated category"
      ],
      "metadata": {
        "id": "VqhT6mG-82_V"
      }
    },
    {
      "cell_type": "markdown",
      "source": [
        "### Categories with highest Paid and Free apps are:-"
      ],
      "metadata": {
        "id": "2-gHOkq19R6k"
      }
    },
    {
      "cell_type": "code",
      "source": [
        "app_count = df.groupby(['Category','Type'])[['App Name']].count().reset_index().rename(columns={'App Name':'Count','index':'App Name'})\n",
        "df_app_count = app_count.pivot('Category', 'Type', 'Count').fillna(0).reset_index()"
      ],
      "metadata": {
        "id": "rHxDQXa-8_DN"
      },
      "execution_count": null,
      "outputs": []
    },
    {
      "cell_type": "code",
      "source": [
        "df_app_count.set_index('Category').plot(kind='bar', stacked=True, figsize=(18,9)) # try df_app_count.plot(kind='bar', stacked=True, figsize=(18,9))\n",
        "plt.xlabel(\"Category\", fontsize=15)\n",
        "plt.ylabel(\"Count\", fontsize=15)\n",
        "plt.title(\"Free and Paid Apps in Category\")"
      ],
      "metadata": {
        "colab": {
          "base_uri": "https://localhost:8080/",
          "height": 618
        },
        "id": "yxjqgrLa9Bie",
        "outputId": "7da8fbec-ef39-4837-dc1f-1e0a7ad31b73"
      },
      "execution_count": null,
      "outputs": [
        {
          "output_type": "execute_result",
          "data": {
            "text/plain": [
              "Text(0.5, 1.0, 'Free and Paid Apps in Category')"
            ]
          },
          "metadata": {},
          "execution_count": 70
        },
        {
          "output_type": "display_data",
          "data": {
            "text/plain": [
              "<Figure size 1296x648 with 1 Axes>"
            ],
            "image/png": "[encoded data removed]"
          },
          "metadata": {
            "needs_background": "light"
          }
        }
      ]
    },
    {
      "cell_type": "markdown",
      "source": [
        "## Ans - Education Category is the highest in paid apps list"
      ],
      "metadata": {
        "id": "2ej1R4mJ9f4A"
      }
    },
    {
      "cell_type": "markdown",
      "source": [
        "## Observaton : \n",
        "It looks like certain app categories have more free apps available for download than others. In our dataset, the majority of apps in Business,Education, Music & Audio, Tools as well as Entertainment were free to install. At the same time Books & References, Education, Tools and Personalization categories had the biggest number of paid apps available for Installation."
      ],
      "metadata": {
        "id": "MIEunib89qOj"
      }
    },
    {
      "cell_type": "markdown",
      "source": [
        "##visualize the Installation Types in each category\n"
      ],
      "metadata": {
        "id": "LdLxk78I-RTj"
      }
    },
    {
      "cell_type": "code",
      "source": [
        "df['Installs'].min(),df['Installs'].max()"
      ],
      "metadata": {
        "colab": {
          "base_uri": "https://localhost:8080/"
        },
        "id": "vbxTswLG-Ses",
        "outputId": "05912cb3-a49d-4c43-9278-1072351ad718"
      },
      "execution_count": null,
      "outputs": [
        {
          "output_type": "execute_result",
          "data": {
            "text/plain": [
              "(0, 100000000)"
            ]
          },
          "metadata": {},
          "execution_count": 63
        }
      ]
    },
    {
      "cell_type": "markdown",
      "source": [
        "There is a high variance in the number of installs, we need to reduce it so we can use a log value for this column, otherwise it would be unable to see the data when we visualize"
      ],
      "metadata": {
        "id": "FEuD2qxw-iAy"
      }
    },
    {
      "cell_type": "code",
      "source": [
        "categoty_type_installs = df.groupby(['Category','Type'])[['Installs']].sum().reset_index()\n",
        "categoty_type_installs['log_Installs'] = np.log10(categoty_type_installs['Installs'])"
      ],
      "metadata": {
        "id": "-m1_OyDP-kWy"
      },
      "execution_count": null,
      "outputs": []
    },
    {
      "cell_type": "code",
      "source": [
        "plt.figure(figsize=(18,9))\n",
        "plt.xticks(rotation=65,fontsize=9)\n",
        "plt.xlabel(\"Category\")\n",
        "plt.ylabel(\"Installs\")\n",
        "plt.title(\"Number of installed Apps type wise according to Category\")\n",
        "sns.barplot('Category','log_Installs', hue='Type', data=categoty_type_installs)"
      ],
      "metadata": {
        "colab": {
          "base_uri": "https://localhost:8080/",
          "height": 734
        },
        "id": "6jewSTLU-oGc",
        "outputId": "97dd0111-e04b-4b4a-d02b-d79bda63bce8"
      },
      "execution_count": null,
      "outputs": [
        {
          "output_type": "stream",
          "name": "stderr",
          "text": [
            "/usr/local/lib/python3.8/dist-packages/seaborn/_decorators.py:36: FutureWarning: Pass the following variables as keyword args: x, y. From version 0.12, the only valid positional argument will be `data`, and passing other arguments without an explicit keyword will result in an error or misinterpretation.\n",
            "  warnings.warn(\n"
          ]
        },
        {
          "output_type": "execute_result",
          "data": {
            "text/plain": [
              "<matplotlib.axes._subplots.AxesSubplot at 0x7efe842fe5b0>"
            ]
          },
          "metadata": {},
          "execution_count": 65
        },
        {
          "output_type": "display_data",
          "data": {
            "text/plain": [
              "<Figure size 1296x648 with 1 Axes>"
            ],
            "image/png": "[encoded data removed]"
          },
          "metadata": {}
        }
      ]
    },
    {
      "cell_type": "markdown",
      "source": [
        "##Q - What are the Top 5 Free Apps based With highest ratings and installs ?"
      ],
      "metadata": {
        "id": "74M7vs0-BgPS"
      }
    },
    {
      "cell_type": "code",
      "source": [
        "free_apps = df[(df.Type=='Free') & (df.Installs >= 5000000)]\n",
        "free_apps = free_apps.groupby('App Name')['Rating'].max().sort_values(ascending = False)\n",
        "free_apps = free_apps.head(5)"
      ],
      "metadata": {
        "id": "EPF4Bp4NBiB5"
      },
      "execution_count": null,
      "outputs": []
    },
    {
      "cell_type": "code",
      "source": [
        "plt.figure(figsize=(8,4))\n",
        "plt.xlabel(\"Rating\")\n",
        "sns.set_theme(style=\"whitegrid\")\n",
        "sns.lineplot(x = free_apps.values, y = free_apps.index,color = 'Blue')\n",
        "plt.title(\"Top 5 Free Rated Apps\")"
      ],
      "metadata": {
        "colab": {
          "base_uri": "https://localhost:8080/",
          "height": 318
        },
        "id": "nxzanWKoBoOY",
        "outputId": "62f0e56b-5eff-4d0d-a69b-1b48bad71bf1"
      },
      "execution_count": null,
      "outputs": [
        {
          "output_type": "execute_result",
          "data": {
            "text/plain": [
              "Text(0.5, 1.0, 'Top 5 Free Rated Apps')"
            ]
          },
          "metadata": {},
          "execution_count": 82
        },
        {
          "output_type": "display_data",
          "data": {
            "text/plain": [
              "<Figure size 576x288 with 1 Axes>"
            ],
            "image/png": "[encoded data removed]"
          },
          "metadata": {}
        }
      ]
    },
    {
      "cell_type": "markdown",
      "source": [
        "## Ans - Word Search Sea, Emoji One Stickers for Chatting apps, Screen Recorder...,Fairway Solitair, Learn 33 languages free."
      ],
      "metadata": {
        "id": "eR_6rGqnBwOp"
      }
    },
    {
      "cell_type": "markdown",
      "source": [
        "## Visualize the categories that have the Top 10  Max Installations "
      ],
      "metadata": {
        "id": "M48hA_ggCjnS"
      }
    },
    {
      "cell_type": "code",
      "source": [
        "plt.figure(figsize=(8,6))\n",
        "data = df.groupby('Category')['Maximum Installs'].max().sort_values(ascending = True)\n",
        "data = data.head(10)\n",
        "labels = data.keys()\n",
        "plt.pie(data, labels= labels,autopct='%.0f%%') \n",
        "plt.title(\"Top 10 Max installations Category wise\", fontsize=14)"
      ],
      "metadata": {
        "colab": {
          "base_uri": "https://localhost:8080/",
          "height": 391
        },
        "id": "oprDcs2ZCk8f",
        "outputId": "9d3982d6-d6bf-4c35-c664-6ea1450b6cf5"
      },
      "execution_count": null,
      "outputs": [
        {
          "output_type": "execute_result",
          "data": {
            "text/plain": [
              "Text(0.5, 1.0, 'Top 10 Max installations Category wise')"
            ]
          },
          "metadata": {},
          "execution_count": 83
        },
        {
          "output_type": "display_data",
          "data": {
            "text/plain": [
              "<Figure size 576x432 with 1 Axes>"
            ],
            "image/png": "[encoded data removed]"
          },
          "metadata": {}
        }
      ]
    },
    {
      "cell_type": "markdown",
      "source": [
        "## Visualize the Top 10 installation Categories that Adults have installed the most "
      ],
      "metadata": {
        "id": "kBxpi8bHCuFe"
      }
    },
    {
      "cell_type": "code",
      "source": [
        "df['Content Rating'].unique()"
      ],
      "metadata": {
        "colab": {
          "base_uri": "https://localhost:8080/"
        },
        "id": "c7PqxNn0CriP",
        "outputId": "a97e1373-10c9-4c92-cc60-e15a39b93670"
      },
      "execution_count": null,
      "outputs": [
        {
          "output_type": "execute_result",
          "data": {
            "text/plain": [
              "array(['Everyone', 'Teen', 'Adults'], dtype=object)"
            ]
          },
          "metadata": {},
          "execution_count": 85
        }
      ]
    },
    {
      "cell_type": "code",
      "source": [
        "plt.figure(figsize=(8,6))\n",
        "Adult = df[(df['Content Rating']=='Adults')]\n",
        "Adult = Adult.groupby(['Category'])['Maximum Installs'].max().sort_values(ascending=False)\n",
        "Adult = Adult.head(10)\n",
        "labels = Adult.keys()\n",
        "plt.pie(x = Adult, autopct=\"%.1f%%\", labels=labels)\n",
        "plt.title(\"Adults Installing apps in terms of category\", fontsize=14)"
      ],
      "metadata": {
        "colab": {
          "base_uri": "https://localhost:8080/",
          "height": 391
        },
        "id": "iFwqoy4ZCy_e",
        "outputId": "fe3447af-7eaa-4c71-faa3-012dfa8a9ff1"
      },
      "execution_count": null,
      "outputs": [
        {
          "output_type": "execute_result",
          "data": {
            "text/plain": [
              "Text(0.5, 1.0, 'Adults Installing apps in terms of category')"
            ]
          },
          "metadata": {},
          "execution_count": 86
        },
        {
          "output_type": "display_data",
          "data": {
            "text/plain": [
              "<Figure size 576x432 with 1 Axes>"
            ],
            "image/png": "[encoded data removed]"
          },
          "metadata": {}
        }
      ]
    },
    {
      "cell_type": "markdown",
      "source": [
        "## Observation :\n",
        "Most of the Adults showing intrest in downloading the Tools, Entertainment and Dating Apps"
      ],
      "metadata": {
        "id": "49juU_uxC6Pm"
      }
    },
    {
      "cell_type": "code",
      "source": [
        "plt.figure(figsize=(8,6))\n",
        "Teen = df[(df['Content Rating']=='Teen')]\n",
        "Teen = Teen.groupby(['Category'])['Maximum Installs'].max().sort_values(ascending=False)\n",
        "Teen = Teen.head(10)\n",
        "labels = Teen.keys()\n",
        "plt.pie(x = Teen, autopct=\"%.1f%%\", labels=labels)\n",
        "plt.title(\"Teen Installing apps in terms of category\", fontsize=14)"
      ],
      "metadata": {
        "colab": {
          "base_uri": "https://localhost:8080/",
          "height": 391
        },
        "id": "1IMtZdLZDMzm",
        "outputId": "f29df691-d4ef-4190-c159-b12e4bc250e7"
      },
      "execution_count": null,
      "outputs": [
        {
          "output_type": "execute_result",
          "data": {
            "text/plain": [
              "Text(0.5, 1.0, 'Teen Installing apps in terms of category')"
            ]
          },
          "metadata": {},
          "execution_count": 87
        },
        {
          "output_type": "display_data",
          "data": {
            "text/plain": [
              "<Figure size 576x432 with 1 Axes>"
            ],
            "image/png": "[encoded data removed]"
          },
          "metadata": {}
        }
      ]
    },
    {
      "cell_type": "markdown",
      "source": [
        "# **Summary and Conclusion** :     \n",
        "* People are more intrested to install the gaming Apps,Tools and the top Rating is given to the Simulation apps.\n",
        "* InAppPurchases are correlated to App rating. So we can say that if the app provides customer support and have subscription plans it will helps to engage customers.\n",
        "* most people does not gave rating, But the people who are given rating are tend to give 4+ rating the most.\n",
        "* Most of the Audlts installed the Tools, Entertainment and Dating Apps.\n",
        "* Most of the installations are done by the teens and the most are sport,Arcade and Action apps.Sport games has more demand.\n",
        "* Size of the Application varies the installations.\n",
        "* People are mostly dwonladed the free apps the installation of the free apps is high and the availabilty of the free apps also is very high.\n",
        " "
      ],
      "metadata": {
        "id": "47RpA2z2Dq0M"
      }
    }
  ]
}